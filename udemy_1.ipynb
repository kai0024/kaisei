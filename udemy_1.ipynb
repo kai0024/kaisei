{
  "nbformat": 4,
  "nbformat_minor": 0,
  "metadata": {
    "colab": {
      "name": "udemy_1.ipynb",
      "provenance": [],
      "authorship_tag": "ABX9TyN6cp0d2tm0C/wz1HYlEt2h",
      "include_colab_link": true
    },
    "kernelspec": {
      "name": "python3",
      "display_name": "Python 3"
    },
    "language_info": {
      "name": "python"
    }
  },
  "cells": [
    {
      "cell_type": "markdown",
      "metadata": {
        "id": "view-in-github",
        "colab_type": "text"
      },
      "source": [
        "<a href=\"https://colab.research.google.com/github/kai0024/kaisei/blob/master/udemy_1.ipynb\" target=\"_parent\"><img src=\"https://colab.research.google.com/assets/colab-badge.svg\" alt=\"Open In Colab\"/></a>"
      ]
    },
    {
      "cell_type": "code",
      "source": [
        "a = True; b = False;\n",
        "print(a+b);"
      ],
      "metadata": {
        "colab": {
          "base_uri": "https://localhost:8080/"
        },
        "id": "OIEdLF8tmcdG",
        "outputId": "4ba5a671-e845-4758-c0e9-bdedd209444b"
      },
      "execution_count": 5,
      "outputs": [
        {
          "output_type": "stream",
          "name": "stdout",
          "text": [
            "1\n"
          ]
        }
      ]
    },
    {
      "cell_type": "markdown",
      "source": [
        "Trueは１、Falseは0として扱われる。"
      ],
      "metadata": {
        "id": "6cPCVSZInJV8"
      }
    },
    {
      "cell_type": "markdown",
      "source": [
        "**○リスト**"
      ],
      "metadata": {
        "id": "EnQJZ6A2n23R"
      }
    },
    {
      "cell_type": "markdown",
      "source": [
        "複数の値をまとめて扱う場合に使用する。"
      ],
      "metadata": {
        "id": "LnOxhdj4n6BM"
      }
    },
    {
      "cell_type": "markdown",
      "source": [
        "リストへのアクセスはインデックスを使用する。"
      ],
      "metadata": {
        "id": "3iUNvUhAoMdg"
      }
    },
    {
      "cell_type": "code",
      "source": [
        "a = [1, 2, 3 ,4, 5] #リスト\n",
        "\n",
        "b = a[2]\n",
        "print(b)\n",
        "\n",
        "a.append(6) #末尾に要素を追加する\n",
        "print(a)\n",
        "\n",
        "a[2] = 7\n",
        "print(a)"
      ],
      "metadata": {
        "colab": {
          "base_uri": "https://localhost:8080/"
        },
        "id": "VFHZ1vdXoNKU",
        "outputId": "c826447a-5567-41d8-c314-ef0fb8df33b6"
      },
      "execution_count": 6,
      "outputs": [
        {
          "output_type": "stream",
          "name": "stdout",
          "text": [
            "3\n",
            "[1, 2, 3, 4, 5, 6]\n",
            "[1, 2, 7, 4, 5, 6]\n"
          ]
        }
      ]
    },
    {
      "cell_type": "markdown",
      "source": [
        "**○タプル**"
      ],
      "metadata": {
        "id": "tnf1fzWpojle"
      }
    },
    {
      "cell_type": "markdown",
      "source": [
        "複数の要素をまとめて扱う際に使用するが、リストのように要素の追加・削除・入れ替えはできない。"
      ],
      "metadata": {
        "id": "7WXSTd7joolK"
      }
    },
    {
      "cell_type": "markdown",
      "source": [
        "要素変更をする予定のない場合は、リストよりもタプルを使用する。"
      ],
      "metadata": {
        "id": "vWGTbAu3o8zl"
      }
    },
    {
      "cell_type": "code",
      "source": [
        "a = (1, 2, 3, 4, 5) #タプルの作成\n",
        "\n",
        "b = a[2]\n",
        "print(b)\n",
        "\n",
        "#リストやタプルの要素はまとめて変数化できる\n",
        "a1, a2 ,a3 ,a4, a5= a #全てのインデックスについて設定しないとエラーになる\n",
        "print(a1, a2, a3)\n",
        "\n",
        "b=[6, 7, 8]\n",
        "b1, b2, b3 = b\n",
        "print(b)"
      ],
      "metadata": {
        "colab": {
          "base_uri": "https://localhost:8080/"
        },
        "id": "dg77v-wTpCjp",
        "outputId": "6365141c-9490-4199-a6b9-1f8c14eda11b"
      },
      "execution_count": 8,
      "outputs": [
        {
          "output_type": "stream",
          "name": "stdout",
          "text": [
            "3\n",
            "1 2 3\n",
            "(6, 7, 8)\n"
          ]
        }
      ]
    },
    {
      "cell_type": "markdown",
      "source": [
        "**○辞書**"
      ],
      "metadata": {
        "id": "zRJVzBAcqgcR"
      }
    },
    {
      "cell_type": "markdown",
      "source": [
        "辞書は、キーと値の組み合わせでデータを格納する。"
      ],
      "metadata": {
        "id": "EDdp_yjvqjbK"
      }
    },
    {
      "cell_type": "markdown",
      "source": [
        "文字列をキーとして辞書を作成し、値の取得や入れ替え、要素の追加を行う。"
      ],
      "metadata": {
        "id": "Z6otJbkfqpVY"
      }
    },
    {
      "cell_type": "code",
      "source": [
        "a = {\"Apple\":1, \"Google\":2} #辞書の作成\n",
        "print(a[\"Apple\"]) #\"Apple\"のキーを持つ値を取得\n",
        "\n",
        "a[\"Google\"] = 7 #要素の入れ替え\n",
        "print(a[\"Google\"])\n",
        "\n",
        "a[\"ML\"] = 3 #要素の追加\n",
        "print(a)"
      ],
      "metadata": {
        "colab": {
          "base_uri": "https://localhost:8080/"
        },
        "id": "9RuK-79zqxBu",
        "outputId": "dc950698-de3b-46d4-8d10-12136cc5f66e"
      },
      "execution_count": 9,
      "outputs": [
        {
          "output_type": "stream",
          "name": "stdout",
          "text": [
            "1\n",
            "7\n",
            "{'Apple': 1, 'Google': 7, 'ML': 3}\n"
          ]
        }
      ]
    },
    {
      "cell_type": "markdown",
      "source": [
        "**○セット**"
      ],
      "metadata": {
        "id": "DQUrNtt9rrcI"
      }
    },
    {
      "cell_type": "markdown",
      "source": [
        "リストと似ているが、重複した値の要素を持つことができない。\n",
        "要素の追加や削除は可能。"
      ],
      "metadata": {
        "id": "PRbbwMferu0J"
      }
    },
    {
      "cell_type": "code",
      "source": [
        "a = [1, 1, 2, 3, 4, 5, 5, 6, 7]\n",
        "print(a)\n",
        "\n",
        "b = set(a) #セットに変換\n",
        "print(b)\n",
        "\n",
        "b.add(6)\n",
        "print(b)\n",
        "\n",
        "b.remove(3)\n",
        "print(b)"
      ],
      "metadata": {
        "colab": {
          "base_uri": "https://localhost:8080/"
        },
        "id": "7I0grIAFsBoZ",
        "outputId": "f8d0d684-d862-4332-91b4-3a8d440077f8"
      },
      "execution_count": 10,
      "outputs": [
        {
          "output_type": "stream",
          "name": "stdout",
          "text": [
            "[1, 1, 2, 3, 4, 5, 5, 6, 7]\n",
            "{1, 2, 3, 4, 5, 6, 7}\n",
            "{1, 2, 3, 4, 5, 6, 7}\n",
            "{1, 2, 4, 5, 6, 7}\n"
          ]
        }
      ]
    },
    {
      "cell_type": "markdown",
      "source": [
        "**○if文**"
      ],
      "metadata": {
        "id": "5zxepo9gtKtY"
      }
    },
    {
      "cell_type": "markdown",
      "source": [
        "ブロックの範囲を行頭のインデント(Tab:半角空欄4つ)で表される。"
      ],
      "metadata": {
        "id": "OmE07yF1tPKT"
      }
    },
    {
      "cell_type": "code",
      "source": [
        "a = 7\n",
        "if a < 12:\n",
        "    print(\"Good morning\")\n",
        "elif a< 17:\n",
        "    print(\"Good afternoon\")\n",
        "elif a < 21:\n",
        "    print(\"Good evening\")\n",
        "else:\n",
        "    print(\"Good night\")"
      ],
      "metadata": {
        "colab": {
          "base_uri": "https://localhost:8080/"
        },
        "id": "Q73mEtLntaHx",
        "outputId": "da2b1329-f95d-491c-cc22-311650eb0eb8"
      },
      "execution_count": 12,
      "outputs": [
        {
          "output_type": "stream",
          "name": "stdout",
          "text": [
            "Good morning\n"
          ]
        }
      ]
    },
    {
      "cell_type": "markdown",
      "source": [
        "**○for文**"
      ],
      "metadata": {
        "id": "qpUvaQ6luAjL"
      }
    },
    {
      "cell_type": "markdown",
      "source": [
        "ループ範囲を指定するためには、リストやrangeをin演算子とともに使う"
      ],
      "metadata": {
        "id": "8QNCGXKOuE60"
      }
    },
    {
      "cell_type": "markdown",
      "source": [
        "range([開始番号,]終了番号[,ステップ番号]) []は省略可能"
      ],
      "metadata": {
        "id": "C6jg_shpugJp"
      }
    },
    {
      "cell_type": "code",
      "source": [
        "for a in [4, 7, 10]:\n",
        "    print(a)#リスト内を全て表示\n",
        "\n",
        "for a in range(3):\n",
        "    print(a)#2までを全て表示"
      ],
      "metadata": {
        "colab": {
          "base_uri": "https://localhost:8080/"
        },
        "id": "TfLOd_lbuQYU",
        "outputId": "8b722a75-892d-4f1a-8ee2-10512ed7a8fb"
      },
      "execution_count": 15,
      "outputs": [
        {
          "output_type": "stream",
          "name": "stdout",
          "text": [
            "4\n",
            "7\n",
            "10\n",
            "0\n",
            "1\n",
            "2\n"
          ]
        }
      ]
    },
    {
      "cell_type": "markdown",
      "source": [
        "**○while**"
      ],
      "metadata": {
        "id": "I5O3JntPu85E"
      }
    },
    {
      "cell_type": "code",
      "source": [
        "a = 0\n",
        "while a < 3: #aが３より小さい間ループ\n",
        "    print(a)\n",
        "    a += 1"
      ],
      "metadata": {
        "colab": {
          "base_uri": "https://localhost:8080/"
        },
        "id": "qz6zO5KXu_RU",
        "outputId": "9231b876-b0e1-4687-ff82-49363f99bc55"
      },
      "execution_count": 16,
      "outputs": [
        {
          "output_type": "stream",
          "name": "stdout",
          "text": [
            "0\n",
            "1\n",
            "2\n"
          ]
        }
      ]
    },
    {
      "cell_type": "markdown",
      "source": [
        "**○内包表記**"
      ],
      "metadata": {
        "id": "csHfEe8NvO7p"
      }
    },
    {
      "cell_type": "markdown",
      "source": [
        "リストの要素を操作して上で、新しいリストを作成するための記法。"
      ],
      "metadata": {
        "id": "klAM4pNMvXgP"
      }
    },
    {
      "cell_type": "markdown",
      "source": [
        "新たなリスト = [要素への処理 for 要素 in リスト]"
      ],
      "metadata": {
        "id": "RUVXZYzlvh_n"
      }
    },
    {
      "cell_type": "code",
      "source": [
        "a = [1, 2, 3, 4, 5, 6, 7]\n",
        "b = [c*3+1 for c in a] #内包表記：aの要素を3倍して1を足し新たなリストを作る　aの各要素をcに入れ、それをbに入れる\n",
        "print(b)"
      ],
      "metadata": {
        "colab": {
          "base_uri": "https://localhost:8080/"
        },
        "id": "SkxUGD1KvSrd",
        "outputId": "85b5e692-c40b-4ab8-facb-6a618b7a246a"
      },
      "execution_count": 17,
      "outputs": [
        {
          "output_type": "stream",
          "name": "stdout",
          "text": [
            "[4, 7, 10, 13, 16, 19, 22]\n"
          ]
        }
      ]
    }
  ]
}