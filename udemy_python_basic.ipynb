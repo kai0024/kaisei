{
  "nbformat": 4,
  "nbformat_minor": 0,
  "metadata": {
    "colab": {
      "name": "udemy_python_basic.ipynb",
      "provenance": [],
      "toc_visible": true,
      "authorship_tag": "ABX9TyPQvY9igbvRLAwn9wWkrp5C",
      "include_colab_link": true
    },
    "kernelspec": {
      "name": "python3",
      "display_name": "Python 3"
    },
    "language_info": {
      "name": "python"
    }
  },
  "cells": [
    {
      "cell_type": "markdown",
      "metadata": {
        "id": "view-in-github",
        "colab_type": "text"
      },
      "source": [
        "<a href=\"https://colab.research.google.com/github/kai0024/kaisei/blob/master/udemy_python_basic.ipynb\" target=\"_parent\"><img src=\"https://colab.research.google.com/assets/colab-badge.svg\" alt=\"Open In Colab\"/></a>"
      ]
    },
    {
      "cell_type": "markdown",
      "source": [
        "# python_basic"
      ],
      "metadata": {
        "id": "GrZ_VQgYLEYC"
      }
    },
    {
      "cell_type": "code",
      "source": [
        "a = True; b = False;\n",
        "print(a+b);"
      ],
      "metadata": {
        "colab": {
          "base_uri": "https://localhost:8080/"
        },
        "id": "OIEdLF8tmcdG",
        "outputId": "4ba5a671-e845-4758-c0e9-bdedd209444b"
      },
      "execution_count": null,
      "outputs": [
        {
          "output_type": "stream",
          "name": "stdout",
          "text": [
            "1\n"
          ]
        }
      ]
    },
    {
      "cell_type": "markdown",
      "source": [
        "Trueは１、Falseは0として扱われる。"
      ],
      "metadata": {
        "id": "6cPCVSZInJV8"
      }
    },
    {
      "cell_type": "markdown",
      "source": [
        "**○リスト**"
      ],
      "metadata": {
        "id": "EnQJZ6A2n23R"
      }
    },
    {
      "cell_type": "markdown",
      "source": [
        "複数の値をまとめて扱う場合に使用する。"
      ],
      "metadata": {
        "id": "LnOxhdj4n6BM"
      }
    },
    {
      "cell_type": "markdown",
      "source": [
        "リストへのアクセスはインデックスを使用する。"
      ],
      "metadata": {
        "id": "3iUNvUhAoMdg"
      }
    },
    {
      "cell_type": "code",
      "source": [
        "a = [1, 2, 3 ,4, 5] #リスト\n",
        "\n",
        "b = a[2]\n",
        "print(b)\n",
        "\n",
        "a.append(6) #末尾に要素を追加する\n",
        "print(a)\n",
        "\n",
        "a[2] = 7\n",
        "print(a)"
      ],
      "metadata": {
        "colab": {
          "base_uri": "https://localhost:8080/"
        },
        "id": "VFHZ1vdXoNKU",
        "outputId": "c826447a-5567-41d8-c314-ef0fb8df33b6"
      },
      "execution_count": null,
      "outputs": [
        {
          "output_type": "stream",
          "name": "stdout",
          "text": [
            "3\n",
            "[1, 2, 3, 4, 5, 6]\n",
            "[1, 2, 7, 4, 5, 6]\n"
          ]
        }
      ]
    },
    {
      "cell_type": "markdown",
      "source": [
        "**○タプル**"
      ],
      "metadata": {
        "id": "tnf1fzWpojle"
      }
    },
    {
      "cell_type": "markdown",
      "source": [
        "複数の要素をまとめて扱う際に使用するが、リストのように要素の追加・削除・入れ替えはできない。"
      ],
      "metadata": {
        "id": "7WXSTd7joolK"
      }
    },
    {
      "cell_type": "markdown",
      "source": [
        "要素変更をする予定のない場合は、リストよりもタプルを使用する。"
      ],
      "metadata": {
        "id": "vWGTbAu3o8zl"
      }
    },
    {
      "cell_type": "code",
      "source": [
        "a = (1, 2, 3, 4, 5) #タプルの作成\n",
        "\n",
        "b = a[2]\n",
        "print(b)\n",
        "\n",
        "#リストやタプルの要素はまとめて変数化できる\n",
        "a1, a2 ,a3 ,a4, a5= a #全てのインデックスについて設定しないとエラーになる\n",
        "print(a1, a2, a3)\n",
        "\n",
        "b=[6, 7, 8]\n",
        "b1, b2, b3 = b\n",
        "print(b)"
      ],
      "metadata": {
        "colab": {
          "base_uri": "https://localhost:8080/"
        },
        "id": "dg77v-wTpCjp",
        "outputId": "6365141c-9490-4199-a6b9-1f8c14eda11b"
      },
      "execution_count": null,
      "outputs": [
        {
          "output_type": "stream",
          "name": "stdout",
          "text": [
            "3\n",
            "1 2 3\n",
            "(6, 7, 8)\n"
          ]
        }
      ]
    },
    {
      "cell_type": "markdown",
      "source": [
        "**○辞書**"
      ],
      "metadata": {
        "id": "zRJVzBAcqgcR"
      }
    },
    {
      "cell_type": "markdown",
      "source": [
        "辞書は、キーと値の組み合わせでデータを格納する。"
      ],
      "metadata": {
        "id": "EDdp_yjvqjbK"
      }
    },
    {
      "cell_type": "markdown",
      "source": [
        "文字列をキーとして辞書を作成し、値の取得や入れ替え、要素の追加を行う。"
      ],
      "metadata": {
        "id": "Z6otJbkfqpVY"
      }
    },
    {
      "cell_type": "code",
      "source": [
        "a = {\"Apple\":1, \"Google\":2} #辞書の作成\n",
        "print(a[\"Apple\"]) #\"Apple\"のキーを持つ値を取得\n",
        "\n",
        "a[\"Google\"] = 7 #要素の入れ替え\n",
        "print(a[\"Google\"])\n",
        "\n",
        "a[\"ML\"] = 3 #要素の追加\n",
        "print(a)"
      ],
      "metadata": {
        "colab": {
          "base_uri": "https://localhost:8080/"
        },
        "id": "9RuK-79zqxBu",
        "outputId": "dc950698-de3b-46d4-8d10-12136cc5f66e"
      },
      "execution_count": null,
      "outputs": [
        {
          "output_type": "stream",
          "name": "stdout",
          "text": [
            "1\n",
            "7\n",
            "{'Apple': 1, 'Google': 7, 'ML': 3}\n"
          ]
        }
      ]
    },
    {
      "cell_type": "markdown",
      "source": [
        "**○セット**"
      ],
      "metadata": {
        "id": "DQUrNtt9rrcI"
      }
    },
    {
      "cell_type": "markdown",
      "source": [
        "リストと似ているが、重複した値の要素を持つことができない。\n",
        "要素の追加や削除は可能。"
      ],
      "metadata": {
        "id": "PRbbwMferu0J"
      }
    },
    {
      "cell_type": "code",
      "source": [
        "a = [1, 1, 2, 3, 4, 5, 5, 6, 7]\n",
        "print(a)\n",
        "\n",
        "b = set(a) #セットに変換\n",
        "print(b)\n",
        "\n",
        "b.add(6)\n",
        "print(b)\n",
        "\n",
        "b.remove(3)\n",
        "print(b)"
      ],
      "metadata": {
        "colab": {
          "base_uri": "https://localhost:8080/"
        },
        "id": "7I0grIAFsBoZ",
        "outputId": "f8d0d684-d862-4332-91b4-3a8d440077f8"
      },
      "execution_count": null,
      "outputs": [
        {
          "output_type": "stream",
          "name": "stdout",
          "text": [
            "[1, 1, 2, 3, 4, 5, 5, 6, 7]\n",
            "{1, 2, 3, 4, 5, 6, 7}\n",
            "{1, 2, 3, 4, 5, 6, 7}\n",
            "{1, 2, 4, 5, 6, 7}\n"
          ]
        }
      ]
    },
    {
      "cell_type": "markdown",
      "source": [
        "**○if文**"
      ],
      "metadata": {
        "id": "5zxepo9gtKtY"
      }
    },
    {
      "cell_type": "markdown",
      "source": [
        "ブロックの範囲を行頭のインデント(Tab:半角空欄4つ)で表される。"
      ],
      "metadata": {
        "id": "OmE07yF1tPKT"
      }
    },
    {
      "cell_type": "code",
      "source": [
        "a = 7\n",
        "if a < 12:\n",
        "    print(\"Good morning\")\n",
        "elif a< 17:\n",
        "    print(\"Good afternoon\")\n",
        "elif a < 21:\n",
        "    print(\"Good evening\")\n",
        "else:\n",
        "    print(\"Good night\")"
      ],
      "metadata": {
        "colab": {
          "base_uri": "https://localhost:8080/"
        },
        "id": "Q73mEtLntaHx",
        "outputId": "da2b1329-f95d-491c-cc22-311650eb0eb8"
      },
      "execution_count": null,
      "outputs": [
        {
          "output_type": "stream",
          "name": "stdout",
          "text": [
            "Good morning\n"
          ]
        }
      ]
    },
    {
      "cell_type": "markdown",
      "source": [
        "**○for文**"
      ],
      "metadata": {
        "id": "qpUvaQ6luAjL"
      }
    },
    {
      "cell_type": "markdown",
      "source": [
        "ループ範囲を指定するためには、リストやrangeをin演算子とともに使う"
      ],
      "metadata": {
        "id": "8QNCGXKOuE60"
      }
    },
    {
      "cell_type": "markdown",
      "source": [
        "range([開始番号,]終了番号[,ステップ番号]) []は省略可能"
      ],
      "metadata": {
        "id": "C6jg_shpugJp"
      }
    },
    {
      "cell_type": "code",
      "source": [
        "for a in [4, 7, 10]:\n",
        "    print(a)#リスト内を全て表示\n",
        "\n",
        "for a in range(3):\n",
        "    print(a)#2までを全て表示"
      ],
      "metadata": {
        "colab": {
          "base_uri": "https://localhost:8080/"
        },
        "id": "TfLOd_lbuQYU",
        "outputId": "8b722a75-892d-4f1a-8ee2-10512ed7a8fb"
      },
      "execution_count": null,
      "outputs": [
        {
          "output_type": "stream",
          "name": "stdout",
          "text": [
            "4\n",
            "7\n",
            "10\n",
            "0\n",
            "1\n",
            "2\n"
          ]
        }
      ]
    },
    {
      "cell_type": "markdown",
      "source": [
        "**○while**"
      ],
      "metadata": {
        "id": "I5O3JntPu85E"
      }
    },
    {
      "cell_type": "code",
      "source": [
        "a = 0\n",
        "while a < 3: #aが３より小さい間ループ\n",
        "    print(a)\n",
        "    a += 1"
      ],
      "metadata": {
        "colab": {
          "base_uri": "https://localhost:8080/"
        },
        "id": "qz6zO5KXu_RU",
        "outputId": "9231b876-b0e1-4687-ff82-49363f99bc55"
      },
      "execution_count": null,
      "outputs": [
        {
          "output_type": "stream",
          "name": "stdout",
          "text": [
            "0\n",
            "1\n",
            "2\n"
          ]
        }
      ]
    },
    {
      "cell_type": "markdown",
      "source": [
        "**○内包表記**"
      ],
      "metadata": {
        "id": "csHfEe8NvO7p"
      }
    },
    {
      "cell_type": "markdown",
      "source": [
        "リストの要素を操作して上で、新しいリストを作成するための記法。"
      ],
      "metadata": {
        "id": "klAM4pNMvXgP"
      }
    },
    {
      "cell_type": "markdown",
      "source": [
        "新たなリスト = [要素への処理 for 要素 in リスト]"
      ],
      "metadata": {
        "id": "RUVXZYzlvh_n"
      }
    },
    {
      "cell_type": "code",
      "source": [
        "a = [1, 2, 3, 4, 5, 6, 7]\n",
        "b = [c*3+1 for c in a] #内包表記：aの要素を3倍して1を足し新たなリストを作る　aの各要素をcに入れ、それをbに入れる\n",
        "print(b)"
      ],
      "metadata": {
        "colab": {
          "base_uri": "https://localhost:8080/"
        },
        "id": "SkxUGD1KvSrd",
        "outputId": "85b5e692-c40b-4ab8-facb-6a618b7a246a"
      },
      "execution_count": null,
      "outputs": [
        {
          "output_type": "stream",
          "name": "stdout",
          "text": [
            "[4, 7, 10, 13, 16, 19, 22]\n"
          ]
        }
      ]
    },
    {
      "cell_type": "markdown",
      "source": [
        "**○関数**"
      ],
      "metadata": {
        "id": "_8v4YL5__7ai"
      }
    },
    {
      "cell_type": "markdown",
      "source": [
        "defの後に関数名を記述し、()の中に引数を記述する。"
      ],
      "metadata": {
        "id": "cSQBdVjJAKG_"
      }
    },
    {
      "cell_type": "markdown",
      "source": [
        "returnの後の値が返り値になる。"
      ],
      "metadata": {
        "id": "uYW_RydVAUt-"
      }
    },
    {
      "cell_type": "code",
      "source": [
        "def add(a, b): #関数の定義\n",
        "    c = a + b\n",
        "    return c\n",
        "\n",
        "print(add(3,4))\n",
        "\n",
        "def add(a, b=4): #デフォルト値を設定\n",
        "    c = a + b\n",
        "    return c\n",
        "\n",
        "print(add(3))\n",
        "\n",
        "def add(a, b, c):\n",
        "    d = a + b + c\n",
        "    print(d)\n",
        "\n",
        "e = (1, 2, 3)\n",
        "add(*e) #アスタリスクをつけることで複数の引数を一度に渡すことができる"
      ],
      "metadata": {
        "colab": {
          "base_uri": "https://localhost:8080/"
        },
        "id": "ApRJ7KUmAI4I",
        "outputId": "d3ed4a20-7a4a-4c69-de83-86f58cff2b5d"
      },
      "execution_count": null,
      "outputs": [
        {
          "output_type": "stream",
          "name": "stdout",
          "text": [
            "7\n",
            "7\n",
            "6\n"
          ]
        }
      ]
    },
    {
      "cell_type": "markdown",
      "source": [
        "**○変数のスコープ**"
      ],
      "metadata": {
        "id": "FNMZH7ZVBbsP"
      }
    },
    {
      "cell_type": "markdown",
      "source": [
        "グローバル変数はどこからでも参照でき、ローカル変数は同じ関数内からのみ参照できる。"
      ],
      "metadata": {
        "id": "-a5EJpehBfHn"
      }
    },
    {
      "cell_type": "code",
      "source": [
        "a = 123\n",
        "\n",
        "def setLocal():\n",
        "    a = 456 #ローカル変数とみなされる\n",
        "    print(\"Local:\", a)\n",
        "\n",
        "\n",
        "setLocal()\n",
        "print(\"Global:\", a) \n",
        "\n",
        "def setGlobal():\n",
        "    global a #globalを使うことでグローバル関数を変更する\n",
        "    a = 456\n",
        "    print(\"change global:\", a)\n",
        "\n",
        "setGlobal()\n",
        "print(\"Global:\", a)"
      ],
      "metadata": {
        "colab": {
          "base_uri": "https://localhost:8080/"
        },
        "id": "CSz7FiQqBtcj",
        "outputId": "80c8eed5-e970-4eef-c66e-5560d512a541"
      },
      "execution_count": null,
      "outputs": [
        {
          "output_type": "stream",
          "name": "stdout",
          "text": [
            "Local: 456\n",
            "Global: 123\n",
            "change global: 456\n",
            "Global: 456\n"
          ]
        }
      ]
    },
    {
      "cell_type": "markdown",
      "source": [
        "# クラス"
      ],
      "metadata": {
        "id": "OO05o-3IMMw9"
      }
    },
    {
      "cell_type": "markdown",
      "source": [
        "クラスが設計図で、インスタンスは実体。"
      ],
      "metadata": {
        "id": "gkGxllDxCyzs"
      }
    },
    {
      "cell_type": "markdown",
      "source": [
        "クラスから複数のインスタンスを生成できる。クラスとインスタンスを総称してオブジェクトという。"
      ],
      "metadata": {
        "id": "4X2VpXwOC3v4"
      }
    },
    {
      "cell_type": "markdown",
      "source": [
        "クラスを用いると、複数のメゾットをまとめることができる。クラスはclass、メゾットはdefで表す。"
      ],
      "metadata": {
        "id": "JFML1UGvDArZ"
      }
    },
    {
      "cell_type": "code",
      "source": [
        "class Calc: #クラスを定義\n",
        "#__init__は特殊なメゾットで、コンストラクタと呼ばれる　コンストラクタでインスタンスの初期設定を行う\n",
        "    def __init__(self, a): #__initメゾットを定義　selfを用いることでインスタンス変数にアクセスすることができる\n",
        "        #self.a = a で引数として受け取った値をインスタンス変数aに代入する\n",
        "        self.a = a\n",
        "\n",
        "    def add(self, b):\n",
        "        print(self.a + b)\n",
        "\n",
        "    def multiply(self, b):\n",
        "        print(self.a * b)\n",
        "\n",
        "#インスタンスを定義\n",
        "calc = Calc(3)  #これでインスタンス変数calcに3が入る selfに3が入る\n",
        "calc.add(4)\n",
        "calc.multiply(4)\n",
        "\n",
        "class CalcPlus(Calc): #Calcを継承\n",
        "    def subtract(self, b):\n",
        "        print(self.a - b)\n",
        "\n",
        "    def divide(self, b):\n",
        "        print(self.a / b)\n",
        "\n",
        "#インスタンスを定義\n",
        "calc_plus = CalcPlus(3)\n",
        "calc_plus.add(4)\n",
        "calc_plus.multiply(4)\n",
        "calc_plus.subtract(4)\n",
        "calc_plus.divide(4)"
      ],
      "metadata": {
        "colab": {
          "base_uri": "https://localhost:8080/"
        },
        "id": "mN2Q_toUDORM",
        "outputId": "c9420017-f459-4811-eb23-9b6304872b5b"
      },
      "execution_count": null,
      "outputs": [
        {
          "output_type": "stream",
          "name": "stdout",
          "text": [
            "7\n",
            "12\n",
            "7\n",
            "12\n",
            "-1\n",
            "0.75\n"
          ]
        }
      ]
    },
    {
      "cell_type": "markdown",
      "source": [
        "**○__call__メゾット**"
      ],
      "metadata": {
        "id": "qrfOuE_MHzFW"
      }
    },
    {
      "cell_type": "markdown",
      "source": [
        "callメゾットをクラス内に実装すると、インスタンス名からメゾッドを呼び出すことができる。"
      ],
      "metadata": {
        "id": "MyqzWuqcH3yJ"
      }
    },
    {
      "cell_type": "code",
      "source": [
        "class Hello:\n",
        "      def __init__(self, name):\n",
        "          self.name = name #self.nameをnameと定義する\n",
        "\n",
        "      def __call__(self):\n",
        "          print(\"Hello\" + self.name + \"!\")\n",
        "\n",
        "\n",
        "h = Hello(\"AI\")\n",
        "#インスタンス名hを使って__call__メゾットを呼ぶ\n",
        "h()\n",
        "\n",
        "#上に同じ\n",
        "Hello(\"AI\")()"
      ],
      "metadata": {
        "colab": {
          "base_uri": "https://localhost:8080/"
        },
        "id": "wZThpTG1ICH3",
        "outputId": "23996fcc-0939-4698-d2d1-75a45ce2b241"
      },
      "execution_count": null,
      "outputs": [
        {
          "output_type": "stream",
          "name": "stdout",
          "text": [
            "HelloAI!\n",
            "HelloAI!\n"
          ]
        }
      ]
    },
    {
      "cell_type": "markdown",
      "source": [
        "**○with構文**"
      ],
      "metadata": {
        "id": "rmMUyZEiJwlW"
      }
    },
    {
      "cell_type": "markdown",
      "source": [
        "with構文を用いて、ファイルの読み込みや保存を簡潔に記述することができる。"
      ],
      "metadata": {
        "id": "QUvhYUgqJ1Vn"
      }
    },
    {
      "cell_type": "markdown",
      "source": [
        "保存されたファイルは、サイドバーで確認することができる。"
      ],
      "metadata": {
        "id": "7Nl0bZImKAun"
      }
    },
    {
      "cell_type": "code",
      "source": [
        "greetings = \"Good morning!\\nGood afternoon!\\nGood evening!\\nGood night!\"\n",
        "\n",
        "with open(\"greetings.txt\", \"w\") as f:\n",
        "    f.write(greetings) #ファイルに保存\n",
        "\n",
        "with open(\"greetings.txt\", \"r\") as f:\n",
        "    print(f.read()) #ファイルに保存"
      ],
      "metadata": {
        "colab": {
          "base_uri": "https://localhost:8080/"
        },
        "id": "uPwd8MjSKE5e",
        "outputId": "81fdd208-a4c9-4a10-f7f7-7c9f2af570dc"
      },
      "execution_count": null,
      "outputs": [
        {
          "output_type": "stream",
          "name": "stdout",
          "text": [
            "Good morning!\n",
            "Good afternoon!\n",
            "Good evening!\n",
            "Good night!\n"
          ]
        }
      ]
    },
    {
      "cell_type": "markdown",
      "source": [
        "# ローカルとのやりとり"
      ],
      "metadata": {
        "id": "9pl8I3yXL0MR"
      }
    },
    {
      "cell_type": "markdown",
      "source": [
        "端末からファイルをアップしたり、端末にファイルをダウンロードするコードを書くことができる。"
      ],
      "metadata": {
        "id": "SB9tjfvlL5bK"
      }
    },
    {
      "cell_type": "code",
      "source": [
        "from google.colab import files #google colabからfilesをインポートする\n",
        "\n",
        "#ファイルのアップロード\n",
        "uploaded = files.upload()\n",
        "for key in uploaded.keys():\n",
        "  print(uploaded[key].decode('utf-8'))"
      ],
      "metadata": {
        "colab": {
          "resources": {
            "http://localhost:8080/nbextensions/google.colab/files.js": {
              "data": "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",
              "ok": true,
              "headers": [
                [
                  "content-type",
                  "application/javascript"
                ]
              ],
              "status": 200,
              "status_text": ""
            }
          },
          "base_uri": "https://localhost:8080/",
          "height": 148
        },
        "id": "ts-Nh6qYMSBm",
        "outputId": "4e1724f0-c9e8-41c1-d1fd-9c525e9a3e92"
      },
      "execution_count": null,
      "outputs": [
        {
          "output_type": "display_data",
          "data": {
            "text/html": [
              "\n",
              "     <input type=\"file\" id=\"files-ceb11610-45c4-45bf-b4ff-fb7ae8267407\" name=\"files[]\" multiple disabled\n",
              "        style=\"border:none\" />\n",
              "     <output id=\"result-ceb11610-45c4-45bf-b4ff-fb7ae8267407\">\n",
              "      Upload widget is only available when the cell has been executed in the\n",
              "      current browser session. Please rerun this cell to enable.\n",
              "      </output>\n",
              "      <script src=\"/nbextensions/google.colab/files.js\"></script> "
            ],
            "text/plain": [
              "<IPython.core.display.HTML object>"
            ]
          },
          "metadata": {}
        },
        {
          "output_type": "stream",
          "name": "stdout",
          "text": [
            "Saving greetings.txt to greetings (1).txt\n",
            "Good morning!\n",
            "Good afternoon!\n",
            "Good evening!\n",
            "Good night!\n"
          ]
        }
      ]
    },
    {
      "cell_type": "code",
      "source": [
        "files.download('greetings.txt') #ファイルをダウンロードすることができる"
      ],
      "metadata": {
        "id": "n2v_XEn2O1Z9"
      },
      "execution_count": null,
      "outputs": []
    },
    {
      "cell_type": "markdown",
      "source": [
        "# グーグルドライブとの連携"
      ],
      "metadata": {
        "id": "lPjUs7u2PLZJ"
      }
    },
    {
      "cell_type": "code",
      "source": [
        "from google.colab import drive\n",
        "drive.mount('/content/drive/')"
      ],
      "metadata": {
        "colab": {
          "base_uri": "https://localhost:8080/"
        },
        "id": "P7Qdxw6iPQVS",
        "outputId": "2f11a1be-e320-4a17-955e-8735117307d7"
      },
      "execution_count": null,
      "outputs": [
        {
          "output_type": "stream",
          "name": "stdout",
          "text": [
            "Drive already mounted at /content/drive/; to attempt to forcibly remount, call drive.mount(\"/content/drive/\", force_remount=True).\n"
          ]
        }
      ]
    },
    {
      "cell_type": "markdown",
      "source": [
        "グーグルドライブにファイルを保存する。"
      ],
      "metadata": {
        "id": "SmGe2maPPpvb"
      }
    },
    {
      "cell_type": "code",
      "source": [
        "import os\n",
        "\n",
        "path = '/content/drive/My Drive/greetings'\n",
        "\n",
        "#ディレクトリを作成\n",
        "if not os.path.exists(path):\n",
        "    os.makedirs(path)\n",
        "\n",
        "#ファイルを保存する\n",
        "with open('/content/drive/My Drive/greetings/hello.txt', 'w') as f:\n",
        "  f.write(\"Hello\")"
      ],
      "metadata": {
        "id": "Yc7hxjl9PwlS"
      },
      "execution_count": null,
      "outputs": []
    },
    {
      "cell_type": "markdown",
      "source": [
        "# Numpy(ナンパイ)の基礎"
      ],
      "metadata": {
        "id": "7yiy2J7Yb1bt"
      }
    },
    {
      "cell_type": "markdown",
      "source": [
        "NumpyはPythonの拡張モジュールで、シンプルな表記で効率的なデータの操作を可能にする。"
      ],
      "metadata": {
        "id": "71z7aDu7b5G_"
      }
    },
    {
      "cell_type": "markdown",
      "source": [
        "モジュール：様々な機能の一つの塊"
      ],
      "metadata": {
        "id": "8n6lW2pactOf"
      }
    },
    {
      "cell_type": "markdown",
      "source": [
        "内部はC言語で実装されているため、高速に動作する。"
      ],
      "metadata": {
        "id": "4m66Ie0Lc1sB"
      }
    },
    {
      "cell_type": "markdown",
      "source": [
        "コースで使用するNumpyのみ今回は学ぶ。"
      ],
      "metadata": {
        "id": "qu2jUmKwc-qF"
      }
    },
    {
      "cell_type": "markdown",
      "source": [
        "importでモジュールをインストールする。"
      ],
      "metadata": {
        "id": "u3OpqYDpfJ8T"
      }
    },
    {
      "cell_type": "code",
      "source": [
        "import numpy as np"
      ],
      "metadata": {
        "id": "2j76xuAqc92C"
      },
      "execution_count": 1,
      "outputs": []
    },
    {
      "cell_type": "markdown",
      "source": [
        "Numpyの配列は、Numpyのarray関数を使うことでPythonのリストから簡単に作ることができる。"
      ],
      "metadata": {
        "id": "Dha93aEIfimd"
      }
    },
    {
      "cell_type": "code",
      "source": [
        "a = np.array([1, 2, 3, 4, 5])\n",
        "print(a)"
      ],
      "metadata": {
        "colab": {
          "base_uri": "https://localhost:8080/"
        },
        "id": "UIt8ZTDkfQIR",
        "outputId": "678b279f-dc4a-4c44-8354-fc8b72aaf43d"
      },
      "execution_count": 2,
      "outputs": [
        {
          "output_type": "stream",
          "name": "stdout",
          "text": [
            "[1 2 3 4 5]\n"
          ]
        }
      ]
    },
    {
      "cell_type": "markdown",
      "source": [
        "二次元配列"
      ],
      "metadata": {
        "id": "mve900W6ftzO"
      }
    },
    {
      "cell_type": "code",
      "source": [
        "import numpy as np\n",
        "\n",
        "b = np.array([[0, 1, 2], [3, 4, 5]]) #2次元配列\n",
        "print(b)"
      ],
      "metadata": {
        "colab": {
          "base_uri": "https://localhost:8080/"
        },
        "id": "jZlg67L5fs26",
        "outputId": "07474772-8995-4de1-f759-5a5ffd72c992"
      },
      "execution_count": 4,
      "outputs": [
        {
          "output_type": "stream",
          "name": "stdout",
          "text": [
            "[[0 1 2]\n",
            " [3 4 5]]\n"
          ]
        }
      ]
    },
    {
      "cell_type": "code",
      "source": [
        "c = np.array([[0, 1, 2],[3, 4, 5]])\n",
        "\n",
        "print(c)\n",
        "print()\n",
        "print(c + 3) #各要素に3を足す\n",
        "print()\n",
        "print(c * 3) #各要素に３を掛ける\n",
        "print()\n",
        "d = np.array([[4, 5, 6], [7, 8, 9]])\n",
        "\n",
        "print(c + d) #配列の足し算"
      ],
      "metadata": {
        "colab": {
          "base_uri": "https://localhost:8080/"
        },
        "id": "GTqXLTSmhB9y",
        "outputId": "005efe71-8673-46c2-bd8a-48031f20c1b8"
      },
      "execution_count": 6,
      "outputs": [
        {
          "output_type": "stream",
          "name": "stdout",
          "text": [
            "[[0 1 2]\n",
            " [3 4 5]]\n",
            "\n",
            "[[3 4 5]\n",
            " [6 7 8]]\n",
            "\n",
            "[[ 0  3  6]\n",
            " [ 9 12 15]]\n",
            "\n",
            "[[ 4  6  8]\n",
            " [10 12 14]]\n"
          ]
        }
      ]
    },
    {
      "cell_type": "markdown",
      "source": [
        "**○形状の変換**"
      ],
      "metadata": {
        "id": "cD7kDxyOiLnX"
      }
    },
    {
      "cell_type": "code",
      "source": [
        "b = np.array([0, 1, 2, 3, 4, 5, 6, 7])\n",
        "c = b.reshape(2,4) #reshape関数で1次元配列を2次元配列に(2行、４列)\n",
        "print(c)\n",
        "\n",
        "d = np.array([[[0, 1, 2],\n",
        "            [3, 4, 5]],\n",
        "      \n",
        "            [[5, 4, 3],\n",
        "             [2, 1, 0]]]) #3重のリストからNumpyの3次元配列を作る\n",
        "\n",
        "e = d.reshape(-1) #reshapeの引数を-1にすると1次元配列になる\n",
        "print(e)"
      ],
      "metadata": {
        "colab": {
          "base_uri": "https://localhost:8080/"
        },
        "id": "hL6oxzyDiPSP",
        "outputId": "0b5e575b-4ae5-4043-f01a-e905c71538d4"
      },
      "execution_count": 10,
      "outputs": [
        {
          "output_type": "stream",
          "name": "stdout",
          "text": [
            "[[0 1 2 3]\n",
            " [4 5 6 7]]\n",
            "[0 1 2 3 4 5 5 4 3 2 1 0]\n"
          ]
        }
      ]
    },
    {
      "cell_type": "markdown",
      "source": [
        "**○要素へのアクセス**"
      ],
      "metadata": {
        "id": "ix91TJ14sGEg"
      }
    },
    {
      "cell_type": "code",
      "source": [
        "a = np.array([0, 1, 2, 3, 4, 5])\n",
        "\n",
        "print(a[2]) #要素へのアクセス\n",
        "\n",
        "a[2] = 9 #要素の変換\n",
        "print(a[2])\n",
        "\n",
        "b = np.array([[0, 1, 2],[3, 4, 5]])\n",
        "\n",
        "print(b[1,2]) #b[1][2]と同じ　1行目(0行から)の2列目の要素(0列から)\n",
        "\n",
        "b[1, 2] = 9 #要素の変更\n",
        "\n",
        "print(b)"
      ],
      "metadata": {
        "colab": {
          "base_uri": "https://localhost:8080/"
        },
        "id": "a08hsBFAsR87",
        "outputId": "47248a6f-5eed-4f9e-e34c-a47ea56e58a8"
      },
      "execution_count": 14,
      "outputs": [
        {
          "output_type": "stream",
          "name": "stdout",
          "text": [
            "2\n",
            "9\n",
            "5\n",
            "[[0 1 2]\n",
            " [3 4 9]]\n"
          ]
        }
      ]
    },
    {
      "cell_type": "markdown",
      "source": [
        "# 関数と配列"
      ],
      "metadata": {
        "id": "WpZ8uiyitcmK"
      }
    },
    {
      "cell_type": "code",
      "source": [
        "\n",
        "def my_func(x):\n",
        "    y = x * 2 +1\n",
        "    return y\n",
        "\n",
        "a = np.array([[0, 1, 2],\n",
        "              [3, 4, 5]]) #2次元配列\n",
        "#引数として配列を渡す\n",
        "b = my_func(a)\n",
        "\n",
        "print(b)\n",
        "print()\n",
        "print(np.sum(a))\n",
        "print(np.average(a))\n",
        "print(np.max(a))\n",
        "print(np.min(a))\n",
        "print()\n",
        "print(np.sum(b, axis = 0)) #縦方向で合計\n",
        "print(np.sum(b, axis = 1)) #横方向で合計 \n"
      ],
      "metadata": {
        "colab": {
          "base_uri": "https://localhost:8080/"
        },
        "id": "zSDlupnctfIo",
        "outputId": "5d051877-65e4-4227-9b36-753304e654df"
      },
      "execution_count": 16,
      "outputs": [
        {
          "output_type": "stream",
          "name": "stdout",
          "text": [
            "[[ 1  3  5]\n",
            " [ 7  9 11]]\n",
            "\n",
            "15\n",
            "2.5\n",
            "5\n",
            "0\n",
            "\n",
            "[ 8 12 16]\n",
            "[ 9 27]\n"
          ]
        }
      ]
    },
    {
      "cell_type": "markdown",
      "source": [
        "# matplotlibの基礎"
      ],
      "metadata": {
        "id": "Ih0uDdPiu2dt"
      }
    },
    {
      "cell_type": "markdown",
      "source": [
        "グラフの描画や画像の表示、簡単なアニメーションの作成などを行うことができる。"
      ],
      "metadata": {
        "id": "bHiMbW3lu671"
      }
    },
    {
      "cell_type": "code",
      "source": [
        "import matplotlib.pyplot as plt #インストール"
      ],
      "metadata": {
        "id": "lukG6V_IvKxo"
      },
      "execution_count": 17,
      "outputs": []
    },
    {
      "cell_type": "markdown",
      "source": [
        "**○linspace関数**"
      ],
      "metadata": {
        "id": "iMCBuuIpvB4W"
      }
    },
    {
      "cell_type": "markdown",
      "source": [
        "matplotlibでグラフを描画する際によく使われる関数。"
      ],
      "metadata": {
        "id": "VMnsFgn6vZ2P"
      }
    },
    {
      "cell_type": "markdown",
      "source": [
        "ある区間を50に等間隔で区切ってNumpyの配列にする。"
      ],
      "metadata": {
        "id": "K6ykXPUovg3W"
      }
    },
    {
      "cell_type": "markdown",
      "source": [
        "この配列を、グラフの横軸の値としてよく使う。"
      ],
      "metadata": {
        "id": "Mcdn7EQBvo3g"
      }
    },
    {
      "cell_type": "code",
      "source": [
        "x = np.linspace(-5, 5) #-5から5まで50に区切る\n",
        "\n",
        "print(x)\n",
        "print(len(x)) #xの要素数"
      ],
      "metadata": {
        "colab": {
          "base_uri": "https://localhost:8080/"
        },
        "id": "yR9pdhLxvsQT",
        "outputId": "c159d6d7-a6dd-4c95-92e1-51031b3d2baf"
      },
      "execution_count": 18,
      "outputs": [
        {
          "output_type": "stream",
          "name": "stdout",
          "text": [
            "[-5.         -4.79591837 -4.59183673 -4.3877551  -4.18367347 -3.97959184\n",
            " -3.7755102  -3.57142857 -3.36734694 -3.16326531 -2.95918367 -2.75510204\n",
            " -2.55102041 -2.34693878 -2.14285714 -1.93877551 -1.73469388 -1.53061224\n",
            " -1.32653061 -1.12244898 -0.91836735 -0.71428571 -0.51020408 -0.30612245\n",
            " -0.10204082  0.10204082  0.30612245  0.51020408  0.71428571  0.91836735\n",
            "  1.12244898  1.32653061  1.53061224  1.73469388  1.93877551  2.14285714\n",
            "  2.34693878  2.55102041  2.75510204  2.95918367  3.16326531  3.36734694\n",
            "  3.57142857  3.7755102   3.97959184  4.18367347  4.3877551   4.59183673\n",
            "  4.79591837  5.        ]\n",
            "50\n"
          ]
        }
      ]
    },
    {
      "cell_type": "markdown",
      "source": [
        "**○グラフの描画**"
      ],
      "metadata": {
        "id": "dQAmglG2v8mY"
      }
    },
    {
      "cell_type": "code",
      "source": [
        "x = np.linspace(-5, 5)\n",
        "y_1 = 2 * x #xに2をかけてy座標とする\n",
        "y_2 = 3 * x\n",
        "\n",
        "#軸ラベル\n",
        "plt.xlabel(\"x value\")\n",
        "plt.ylabel(\"y value\")\n",
        "\n",
        "#グラフのタイトル\n",
        "plt.title(\"My Graph\")\n",
        "\n",
        "#プロット　凡例と線のスタイルを指定\n",
        "plt.plot(x, y_1, label = \"y1\")\n",
        "plt.plot(x, y_2, label = \"y2\", linestyle = \"dashed\") #dashed点線\n",
        "\n",
        "#凡例を表示\n",
        "plt.legend() #左上の小窓\n",
        "\n",
        "plt.show()"
      ],
      "metadata": {
        "colab": {
          "base_uri": "https://localhost:8080/",
          "height": 295
        },
        "id": "P15HkIzlwanS",
        "outputId": "4398c560-bbcc-4c96-bcc9-fdea19159186"
      },
      "execution_count": 24,
      "outputs": [
        {
          "output_type": "display_data",
          "data": {
            "image/png": "[encoded data removed]",
            "text/plain": [
              "<Figure size 432x288 with 1 Axes>"
            ]
          },
          "metadata": {
            "needs_background": "light"
          }
        }
      ]
    },
    {
      "cell_type": "markdown",
      "source": [
        "**○散布図の表示**"
      ],
      "metadata": {
        "id": "ZuEjdjKozJdT"
      }
    },
    {
      "cell_type": "code",
      "source": [
        "x = np.array([1.2, 5 , 1.8 , 4.5, 2.4,])\n",
        "y = np.array([2.3, 5.2, 1.1, 3.6, 5])\n",
        "\n",
        "plt.scatter(x,y) #散布図のプロットscatter\n",
        "plt.show()"
      ],
      "metadata": {
        "colab": {
          "base_uri": "https://localhost:8080/",
          "height": 265
        },
        "id": "6SGQbekTzQun",
        "outputId": "9f749fcb-6856-45c0-b19d-f7dd7c03bd5c"
      },
      "execution_count": 27,
      "outputs": [
        {
          "output_type": "display_data",
          "data": {
            "image/png": "[encoded data removed]",
            "text/plain": [
              "<Figure size 432x288 with 1 Axes>"
            ]
          },
          "metadata": {
            "needs_background": "light"
          }
        }
      ]
    },
    {
      "cell_type": "markdown",
      "source": [
        "**○画像の表示**"
      ],
      "metadata": {
        "id": "xYig-kTo0wlW"
      }
    },
    {
      "cell_type": "code",
      "source": [
        "img = np.array([[0, 1, 2, 3],\n",
        "                [4, 5, 6, 7],\n",
        "                [8, 9, 10, 11],\n",
        "                [12, 13, 14, 15]])\n",
        "\n",
        "plt.imshow(img, \"gray\") #グレースケールで表示 imshow関数：配列を画像として表示する関数\n",
        "plt.colorbar() #カラーバーの表示\n",
        "plt.show()"
      ],
      "metadata": {
        "colab": {
          "base_uri": "https://localhost:8080/",
          "height": 269
        },
        "id": "Rw8bmcwI0mEg",
        "outputId": "b32b25dd-b9d8-4bd7-a4b2-bb716eb9000d"
      },
      "execution_count": 28,
      "outputs": [
        {
          "output_type": "display_data",
          "data": {
            "image/png": "[encoded data removed]",
            "text/plain": [
              "<Figure size 432x288 with 2 Axes>"
            ]
          },
          "metadata": {
            "needs_background": "light"
          }
        }
      ]
    },
    {
      "cell_type": "markdown",
      "source": [
        "# Pandasの基礎"
      ],
      "metadata": {
        "id": "AhKh7yvl1i3l"
      }
    },
    {
      "cell_type": "markdown",
      "source": [
        "PandasはPythonでデータ分析を行うためのライブラリで、データの読み込みや編集、統計量の表示などを簡単に行うことができる。"
      ],
      "metadata": {
        "id": "5-imZG541mSL"
      }
    },
    {
      "cell_type": "code",
      "source": [
        "import pandas as pd"
      ],
      "metadata": {
        "id": "4dDKjdXA11Wh"
      },
      "execution_count": 29,
      "outputs": []
    },
    {
      "cell_type": "markdown",
      "source": [
        "Pandasのデータ構造にはSeries(一次元)とDataFrame(二次元)がある。"
      ],
      "metadata": {
        "id": "UeSWkIho1_X_"
      }
    },
    {
      "cell_type": "markdown",
      "source": [
        "**○Seriesの作成**"
      ],
      "metadata": {
        "id": "MNKargna2JcF"
      }
    },
    {
      "cell_type": "markdown",
      "source": [
        "Seriesはラベル付きの一次元配列で、整数や少数、文字列など様々な型のデータを格納することができる。"
      ],
      "metadata": {
        "id": "gv1Hojgc2NyB"
      }
    },
    {
      "cell_type": "code",
      "source": [
        "a = pd.Series([60, 80, 70, 50, 30], index = [\"Japanese\", \"English\", \"Math\", \"Science\", \"History\"]) #ラベルはindexで作成する\n",
        "print(type(a))\n",
        "print(a)\n",
        "\n",
        "print()\n",
        "#Numpy配列でも可\n",
        "a = pd.Series(np.array([60, 80, 70, 50, 30]), index = np.array([\"Japanese\", \"English\", \"Math\", \"Science\", \"History\"]))\n",
        "print(type(a))\n",
        "print(a)\n",
        "\n",
        "print()\n",
        "#辞書で作成\n",
        "a = pd.Series({\"Japanese\":60,\"English\":80,\"Math\":70, \"Science\":50, \"History\":30})\n",
        "print(type(a))\n",
        "print(a)\n",
        "print(a[2]) #インデックス指定\n",
        "print(a[\"Math\"]) #ラベル指定\n",
        "\n",
        "print()\n",
        "\n",
        "a = pd.Series(np.array([60, 80, 70, 50, 30]), index = np.array([\"Japanese\", \"English\", \"Math\", \"Science\", \"History\"]))\n",
        "b = pd.Series([20], index = [\"Art\"])\n",
        "a = a.append(b) #データの追加\n",
        "print(a)"
      ],
      "metadata": {
        "colab": {
          "base_uri": "https://localhost:8080/"
        },
        "id": "h9cIHtNA2Zpr",
        "outputId": "29ec1941-3ec8-4a5e-f9b8-a977f1242230"
      },
      "execution_count": 38,
      "outputs": [
        {
          "output_type": "stream",
          "name": "stdout",
          "text": [
            "<class 'pandas.core.series.Series'>\n",
            "Japanese    60\n",
            "English     80\n",
            "Math        70\n",
            "Science     50\n",
            "History     30\n",
            "dtype: int64\n",
            "\n",
            "<class 'pandas.core.series.Series'>\n",
            "Japanese    60\n",
            "English     80\n",
            "Math        70\n",
            "Science     50\n",
            "History     30\n",
            "dtype: int64\n",
            "\n",
            "<class 'pandas.core.series.Series'>\n",
            "Japanese    60\n",
            "English     80\n",
            "Math        70\n",
            "Science     50\n",
            "History     30\n",
            "dtype: int64\n",
            "70\n",
            "70\n",
            "\n",
            "Japanese    60\n",
            "English     80\n",
            "Math        70\n",
            "Science     50\n",
            "History     30\n",
            "Art         20\n",
            "dtype: int64\n"
          ]
        }
      ]
    },
    {
      "cell_type": "markdown",
      "source": [
        "**○DataFrameの作成**"
      ],
      "metadata": {
        "id": "JXfvoGIE4mcd"
      }
    },
    {
      "cell_type": "markdown",
      "source": [
        "DataFrameはラベル付きの二次元配列で、整数や少数、文字列など様々な型のデータを格納できる。"
      ],
      "metadata": {
        "id": "1WZwkzx64rWy"
      }
    },
    {
      "cell_type": "code",
      "source": [
        "a = pd.DataFrame([[80, 60, 70, True],\n",
        "                  [90, 80, 70, True],\n",
        "                  [70, 60, 75, True],\n",
        "                  [40, 60 ,50, False],\n",
        "                  [20, 30, 40, False],\n",
        "                  [50, 20, 10, False]])\n",
        "\n",
        "a.index = {\"Taro\", \"Hanako\", \"Jiro\", \"Sachiko\", \"Saburo\", \"Yoko\"} #行のラベル付け\n",
        "a.columns = {\"Japanese\", \"English\", \"Math\", \"Result\"} #列のラベル付け\n",
        "a\n",
        "\n"
      ],
      "metadata": {
        "colab": {
          "base_uri": "https://localhost:8080/",
          "height": 238
        },
        "id": "nAyK5U6D5LoT",
        "outputId": "9d91c909-7389-43d9-9056-d0cbfc411bd4"
      },
      "execution_count": 41,
      "outputs": [
        {
          "output_type": "execute_result",
          "data": {
            "text/html": [
              "\n",
              "  <div id=\"df-de3fa1d1-cb5a-4b09-9e4d-b7fb80ca2421\">\n",
              "    <div class=\"colab-df-container\">\n",
              "      <div>\n",
              "<style scoped>\n",
              "    .dataframe tbody tr th:only-of-type {\n",
              "        vertical-align: middle;\n",
              "    }\n",
              "\n",
              "    .dataframe tbody tr th {\n",
              "        vertical-align: top;\n",
              "    }\n",
              "\n",
              "    .dataframe thead th {\n",
              "        text-align: right;\n",
              "    }\n",
              "</style>\n",
              "<table border=\"1\" class=\"dataframe\">\n",
              "  <thead>\n",
              "    <tr style=\"text-align: right;\">\n",
              "      <th></th>\n",
              "      <th>Math</th>\n",
              "      <th>English</th>\n",
              "      <th>Japanese</th>\n",
              "      <th>Result</th>\n",
              "    </tr>\n",
              "  </thead>\n",
              "  <tbody>\n",
              "    <tr>\n",
              "      <th>Yoko</th>\n",
              "      <td>80</td>\n",
              "      <td>60</td>\n",
              "      <td>70</td>\n",
              "      <td>True</td>\n",
              "    </tr>\n",
              "    <tr>\n",
              "      <th>Jiro</th>\n",
              "      <td>90</td>\n",
              "      <td>80</td>\n",
              "      <td>70</td>\n",
              "      <td>True</td>\n",
              "    </tr>\n",
              "    <tr>\n",
              "      <th>Taro</th>\n",
              "      <td>70</td>\n",
              "      <td>60</td>\n",
              "      <td>75</td>\n",
              "      <td>True</td>\n",
              "    </tr>\n",
              "    <tr>\n",
              "      <th>Sachiko</th>\n",
              "      <td>40</td>\n",
              "      <td>60</td>\n",
              "      <td>50</td>\n",
              "      <td>False</td>\n",
              "    </tr>\n",
              "    <tr>\n",
              "      <th>Saburo</th>\n",
              "      <td>20</td>\n",
              "      <td>30</td>\n",
              "      <td>40</td>\n",
              "      <td>False</td>\n",
              "    </tr>\n",
              "    <tr>\n",
              "      <th>Hanako</th>\n",
              "      <td>50</td>\n",
              "      <td>20</td>\n",
              "      <td>10</td>\n",
              "      <td>False</td>\n",
              "    </tr>\n",
              "  </tbody>\n",
              "</table>\n",
              "</div>\n",
              "      <button class=\"colab-df-convert\" onclick=\"convertToInteractive('df-de3fa1d1-cb5a-4b09-9e4d-b7fb80ca2421')\"\n",
              "              title=\"Convert this dataframe to an interactive table.\"\n",
              "              style=\"display:none;\">\n",
              "        \n",
              "  <svg xmlns=\"http://www.w3.org/2000/svg\" height=\"24px\"viewBox=\"0 0 24 24\"\n",
              "       width=\"24px\">\n",
              "    <path d=\"M0 0h24v24H0V0z\" fill=\"none\"/>\n",
              "    <path d=\"M18.56 5.44l.94 2.06.94-2.06 2.06-.94-2.06-.94-.94-2.06-.94 2.06-2.06.94zm-11 1L8.5 8.5l.94-2.06 2.06-.94-2.06-.94L8.5 2.5l-.94 2.06-2.06.94zm10 10l.94 2.06.94-2.06 2.06-.94-2.06-.94-.94-2.06-.94 2.06-2.06.94z\"/><path d=\"M17.41 7.96l-1.37-1.37c-.4-.4-.92-.59-1.43-.59-.52 0-1.04.2-1.43.59L10.3 9.45l-7.72 7.72c-.78.78-.78 2.05 0 2.83L4 21.41c.39.39.9.59 1.41.59.51 0 1.02-.2 1.41-.59l7.78-7.78 2.81-2.81c.8-.78.8-2.07 0-2.86zM5.41 20L4 18.59l7.72-7.72 1.47 1.35L5.41 20z\"/>\n",
              "  </svg>\n",
              "      </button>\n",
              "      \n",
              "  <style>\n",
              "    .colab-df-container {\n",
              "      display:flex;\n",
              "      flex-wrap:wrap;\n",
              "      gap: 12px;\n",
              "    }\n",
              "\n",
              "    .colab-df-convert {\n",
              "      background-color: #E8F0FE;\n",
              "      border: none;\n",
              "      border-radius: 50%;\n",
              "      cursor: pointer;\n",
              "      display: none;\n",
              "      fill: #1967D2;\n",
              "      height: 32px;\n",
              "      padding: 0 0 0 0;\n",
              "      width: 32px;\n",
              "    }\n",
              "\n",
              "    .colab-df-convert:hover {\n",
              "      background-color: #E2EBFA;\n",
              "      box-shadow: 0px 1px 2px rgba(60, 64, 67, 0.3), 0px 1px 3px 1px rgba(60, 64, 67, 0.15);\n",
              "      fill: #174EA6;\n",
              "    }\n",
              "\n",
              "    [theme=dark] .colab-df-convert {\n",
              "      background-color: #3B4455;\n",
              "      fill: #D2E3FC;\n",
              "    }\n",
              "\n",
              "    [theme=dark] .colab-df-convert:hover {\n",
              "      background-color: #434B5C;\n",
              "      box-shadow: 0px 1px 3px 1px rgba(0, 0, 0, 0.15);\n",
              "      filter: drop-shadow(0px 1px 2px rgba(0, 0, 0, 0.3));\n",
              "      fill: #FFFFFF;\n",
              "    }\n",
              "  </style>\n",
              "\n",
              "      <script>\n",
              "        const buttonEl =\n",
              "          document.querySelector('#df-de3fa1d1-cb5a-4b09-9e4d-b7fb80ca2421 button.colab-df-convert');\n",
              "        buttonEl.style.display =\n",
              "          google.colab.kernel.accessAllowed ? 'block' : 'none';\n",
              "\n",
              "        async function convertToInteractive(key) {\n",
              "          const element = document.querySelector('#df-de3fa1d1-cb5a-4b09-9e4d-b7fb80ca2421');\n",
              "          const dataTable =\n",
              "            await google.colab.kernel.invokeFunction('convertToInteractive',\n",
              "                                                     [key], {});\n",
              "          if (!dataTable) return;\n",
              "\n",
              "          const docLinkHtml = 'Like what you see? Visit the ' +\n",
              "            '<a target=\"_blank\" href=https://colab.research.google.com/notebooks/data_table.ipynb>data table notebook</a>'\n",
              "            + ' to learn more about interactive tables.';\n",
              "          element.innerHTML = '';\n",
              "          dataTable['output_type'] = 'display_data';\n",
              "          await google.colab.output.renderOutput(dataTable, element);\n",
              "          const docLink = document.createElement('div');\n",
              "          docLink.innerHTML = docLinkHtml;\n",
              "          element.appendChild(docLink);\n",
              "        }\n",
              "      </script>\n",
              "    </div>\n",
              "  </div>\n",
              "  "
            ],
            "text/plain": [
              "         Math  English  Japanese  Result\n",
              "Yoko       80       60        70    True\n",
              "Jiro       90       80        70    True\n",
              "Taro       70       60        75    True\n",
              "Sachiko    40       60        50   False\n",
              "Saburo     20       30        40   False\n",
              "Hanako     50       20        10   False"
            ]
          },
          "metadata": {},
          "execution_count": 41
        }
      ]
    },
    {
      "cell_type": "code",
      "source": [
        "a.describe() #基本的な統計量"
      ],
      "metadata": {
        "colab": {
          "base_uri": "https://localhost:8080/",
          "height": 300
        },
        "id": "r2gK6yk16Zs7",
        "outputId": "f11107ef-5fa6-4aa8-d529-c76a9d4d0cee"
      },
      "execution_count": 42,
      "outputs": [
        {
          "output_type": "execute_result",
          "data": {
            "text/html": [
              "\n",
              "  <div id=\"df-bfcc7b71-06db-475c-b2b0-0a03d7faeee1\">\n",
              "    <div class=\"colab-df-container\">\n",
              "      <div>\n",
              "<style scoped>\n",
              "    .dataframe tbody tr th:only-of-type {\n",
              "        vertical-align: middle;\n",
              "    }\n",
              "\n",
              "    .dataframe tbody tr th {\n",
              "        vertical-align: top;\n",
              "    }\n",
              "\n",
              "    .dataframe thead th {\n",
              "        text-align: right;\n",
              "    }\n",
              "</style>\n",
              "<table border=\"1\" class=\"dataframe\">\n",
              "  <thead>\n",
              "    <tr style=\"text-align: right;\">\n",
              "      <th></th>\n",
              "      <th>Math</th>\n",
              "      <th>English</th>\n",
              "      <th>Japanese</th>\n",
              "    </tr>\n",
              "  </thead>\n",
              "  <tbody>\n",
              "    <tr>\n",
              "      <th>count</th>\n",
              "      <td>6.000000</td>\n",
              "      <td>6.000000</td>\n",
              "      <td>6.000000</td>\n",
              "    </tr>\n",
              "    <tr>\n",
              "      <th>mean</th>\n",
              "      <td>58.333333</td>\n",
              "      <td>51.666667</td>\n",
              "      <td>52.500000</td>\n",
              "    </tr>\n",
              "    <tr>\n",
              "      <th>std</th>\n",
              "      <td>26.394444</td>\n",
              "      <td>22.286020</td>\n",
              "      <td>24.849547</td>\n",
              "    </tr>\n",
              "    <tr>\n",
              "      <th>min</th>\n",
              "      <td>20.000000</td>\n",
              "      <td>20.000000</td>\n",
              "      <td>10.000000</td>\n",
              "    </tr>\n",
              "    <tr>\n",
              "      <th>25%</th>\n",
              "      <td>42.500000</td>\n",
              "      <td>37.500000</td>\n",
              "      <td>42.500000</td>\n",
              "    </tr>\n",
              "    <tr>\n",
              "      <th>50%</th>\n",
              "      <td>60.000000</td>\n",
              "      <td>60.000000</td>\n",
              "      <td>60.000000</td>\n",
              "    </tr>\n",
              "    <tr>\n",
              "      <th>75%</th>\n",
              "      <td>77.500000</td>\n",
              "      <td>60.000000</td>\n",
              "      <td>70.000000</td>\n",
              "    </tr>\n",
              "    <tr>\n",
              "      <th>max</th>\n",
              "      <td>90.000000</td>\n",
              "      <td>80.000000</td>\n",
              "      <td>75.000000</td>\n",
              "    </tr>\n",
              "  </tbody>\n",
              "</table>\n",
              "</div>\n",
              "      <button class=\"colab-df-convert\" onclick=\"convertToInteractive('df-bfcc7b71-06db-475c-b2b0-0a03d7faeee1')\"\n",
              "              title=\"Convert this dataframe to an interactive table.\"\n",
              "              style=\"display:none;\">\n",
              "        \n",
              "  <svg xmlns=\"http://www.w3.org/2000/svg\" height=\"24px\"viewBox=\"0 0 24 24\"\n",
              "       width=\"24px\">\n",
              "    <path d=\"M0 0h24v24H0V0z\" fill=\"none\"/>\n",
              "    <path d=\"M18.56 5.44l.94 2.06.94-2.06 2.06-.94-2.06-.94-.94-2.06-.94 2.06-2.06.94zm-11 1L8.5 8.5l.94-2.06 2.06-.94-2.06-.94L8.5 2.5l-.94 2.06-2.06.94zm10 10l.94 2.06.94-2.06 2.06-.94-2.06-.94-.94-2.06-.94 2.06-2.06.94z\"/><path d=\"M17.41 7.96l-1.37-1.37c-.4-.4-.92-.59-1.43-.59-.52 0-1.04.2-1.43.59L10.3 9.45l-7.72 7.72c-.78.78-.78 2.05 0 2.83L4 21.41c.39.39.9.59 1.41.59.51 0 1.02-.2 1.41-.59l7.78-7.78 2.81-2.81c.8-.78.8-2.07 0-2.86zM5.41 20L4 18.59l7.72-7.72 1.47 1.35L5.41 20z\"/>\n",
              "  </svg>\n",
              "      </button>\n",
              "      \n",
              "  <style>\n",
              "    .colab-df-container {\n",
              "      display:flex;\n",
              "      flex-wrap:wrap;\n",
              "      gap: 12px;\n",
              "    }\n",
              "\n",
              "    .colab-df-convert {\n",
              "      background-color: #E8F0FE;\n",
              "      border: none;\n",
              "      border-radius: 50%;\n",
              "      cursor: pointer;\n",
              "      display: none;\n",
              "      fill: #1967D2;\n",
              "      height: 32px;\n",
              "      padding: 0 0 0 0;\n",
              "      width: 32px;\n",
              "    }\n",
              "\n",
              "    .colab-df-convert:hover {\n",
              "      background-color: #E2EBFA;\n",
              "      box-shadow: 0px 1px 2px rgba(60, 64, 67, 0.3), 0px 1px 3px 1px rgba(60, 64, 67, 0.15);\n",
              "      fill: #174EA6;\n",
              "    }\n",
              "\n",
              "    [theme=dark] .colab-df-convert {\n",
              "      background-color: #3B4455;\n",
              "      fill: #D2E3FC;\n",
              "    }\n",
              "\n",
              "    [theme=dark] .colab-df-convert:hover {\n",
              "      background-color: #434B5C;\n",
              "      box-shadow: 0px 1px 3px 1px rgba(0, 0, 0, 0.15);\n",
              "      filter: drop-shadow(0px 1px 2px rgba(0, 0, 0, 0.3));\n",
              "      fill: #FFFFFF;\n",
              "    }\n",
              "  </style>\n",
              "\n",
              "      <script>\n",
              "        const buttonEl =\n",
              "          document.querySelector('#df-bfcc7b71-06db-475c-b2b0-0a03d7faeee1 button.colab-df-convert');\n",
              "        buttonEl.style.display =\n",
              "          google.colab.kernel.accessAllowed ? 'block' : 'none';\n",
              "\n",
              "        async function convertToInteractive(key) {\n",
              "          const element = document.querySelector('#df-bfcc7b71-06db-475c-b2b0-0a03d7faeee1');\n",
              "          const dataTable =\n",
              "            await google.colab.kernel.invokeFunction('convertToInteractive',\n",
              "                                                     [key], {});\n",
              "          if (!dataTable) return;\n",
              "\n",
              "          const docLinkHtml = 'Like what you see? Visit the ' +\n",
              "            '<a target=\"_blank\" href=https://colab.research.google.com/notebooks/data_table.ipynb>data table notebook</a>'\n",
              "            + ' to learn more about interactive tables.';\n",
              "          element.innerHTML = '';\n",
              "          dataTable['output_type'] = 'display_data';\n",
              "          await google.colab.output.renderOutput(dataTable, element);\n",
              "          const docLink = document.createElement('div');\n",
              "          docLink.innerHTML = docLinkHtml;\n",
              "          element.appendChild(docLink);\n",
              "        }\n",
              "      </script>\n",
              "    </div>\n",
              "  </div>\n",
              "  "
            ],
            "text/plain": [
              "            Math    English   Japanese\n",
              "count   6.000000   6.000000   6.000000\n",
              "mean   58.333333  51.666667  52.500000\n",
              "std    26.394444  22.286020  24.849547\n",
              "min    20.000000  20.000000  10.000000\n",
              "25%    42.500000  37.500000  42.500000\n",
              "50%    60.000000  60.000000  60.000000\n",
              "75%    77.500000  60.000000  70.000000\n",
              "max    90.000000  80.000000  75.000000"
            ]
          },
          "metadata": {},
          "execution_count": 42
        }
      ]
    },
    {
      "cell_type": "markdown",
      "source": [
        "Numpyや辞書でも可能。基本的な統計量はmaxなどを使用することで個別に取得することが可能。"
      ],
      "metadata": {
        "id": "7mx73IND6cwn"
      }
    },
    {
      "cell_type": "code",
      "source": [
        "ma = a.loc[:, \"English\"] #一列取り出す\n",
        "print(type(ma))\n",
        "ma"
      ],
      "metadata": {
        "colab": {
          "base_uri": "https://localhost:8080/"
        },
        "id": "yAneFQ5R6wbf",
        "outputId": "11118901-2f08-4e07-feaf-31065532063b"
      },
      "execution_count": 51,
      "outputs": [
        {
          "output_type": "stream",
          "name": "stdout",
          "text": [
            "<class 'pandas.core.series.Series'>\n"
          ]
        },
        {
          "output_type": "execute_result",
          "data": {
            "text/plain": [
              "Yoko       60\n",
              "Jiro       80\n",
              "Taro       60\n",
              "Sachiko    60\n",
              "Saburo     30\n",
              "Hanako     20\n",
              "Name: English, dtype: int64"
            ]
          },
          "metadata": {},
          "execution_count": 51
        }
      ]
    },
    {
      "cell_type": "code",
      "source": [
        "tr = a.loc[\"Taro\", :] #１行取り出す locメゾットで範囲を指定\n",
        "print(type(tr))\n",
        "tr"
      ],
      "metadata": {
        "colab": {
          "base_uri": "https://localhost:8080/"
        },
        "id": "KChvpSlD7sP1",
        "outputId": "f0e70b13-d19c-4134-d495-504095361734"
      },
      "execution_count": 50,
      "outputs": [
        {
          "output_type": "stream",
          "name": "stdout",
          "text": [
            "<class 'pandas.core.series.Series'>\n"
          ]
        },
        {
          "output_type": "execute_result",
          "data": {
            "text/plain": [
              "Math          70\n",
              "English       60\n",
              "Japanese      75\n",
              "Result      True\n",
              "Name: Taro, dtype: object"
            ]
          },
          "metadata": {},
          "execution_count": 50
        }
      ]
    },
    {
      "cell_type": "markdown",
      "source": [
        "Pandas基礎2未完"
      ],
      "metadata": {
        "id": "oNKunqN9-dL7"
      }
    },
    {
      "cell_type": "markdown",
      "source": [
        "**○演習**"
      ],
      "metadata": {
        "id": "-VqDv8zG8KcK"
      }
    },
    {
      "cell_type": "code",
      "source": [
        "a = np.array([0, 1, 2, 3, 4, 5])\n",
        "b = np.array([[5, 4, 3], [2, 1, 0]])\n",
        "\n",
        "a = a.reshape(2, 3)\n",
        "\n",
        "print(a + b)"
      ],
      "metadata": {
        "colab": {
          "base_uri": "https://localhost:8080/"
        },
        "id": "7vHxevQV8NAa",
        "outputId": "1a9cc4df-f4f4-4ed6-b299-6faca996a2f8"
      },
      "execution_count": 60,
      "outputs": [
        {
          "output_type": "stream",
          "name": "stdout",
          "text": [
            "[[5 5 5]\n",
            " [5 5 5]]\n"
          ]
        }
      ]
    },
    {
      "cell_type": "markdown",
      "source": [
        "二次関数　y=x^3-12x　描画"
      ],
      "metadata": {
        "id": "Z7H0SXv7-FNs"
      }
    },
    {
      "cell_type": "code",
      "source": [
        "x = np.linspace(-4, 4)\n",
        "y = x * x * x - 12 *x\n",
        "\n",
        "plt.xlabel(\"x\")\n",
        "plt.ylabel(\"y\")\n",
        "plt.plot(x, y)\n",
        "plt.show()"
      ],
      "metadata": {
        "colab": {
          "base_uri": "https://localhost:8080/",
          "height": 279
        },
        "id": "ujBTz6F2-Dfe",
        "outputId": "b1b2bb76-a941-4f7c-af09-a9b82dd54c22"
      },
      "execution_count": 61,
      "outputs": [
        {
          "output_type": "display_data",
          "data": {
            "image/png": "[encoded data removed]",
            "text/plain": [
              "<Figure size 432x288 with 1 Axes>"
            ]
          },
          "metadata": {
            "needs_background": "light"
          }
        }
      ]
    }
  ]
}