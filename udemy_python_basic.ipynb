{
  "nbformat": 4,
  "nbformat_minor": 0,
  "metadata": {
    "colab": {
      "name": "udemy_python_basic.ipynb",
      "provenance": [],
      "toc_visible": true,
      "authorship_tag": "ABX9TyPFNlPsTsqkgN4Sq+y2cK7b",
      "include_colab_link": true
    },
    "kernelspec": {
      "name": "python3",
      "display_name": "Python 3"
    },
    "language_info": {
      "name": "python"
    }
  },
  "cells": [
    {
      "cell_type": "markdown",
      "metadata": {
        "id": "view-in-github",
        "colab_type": "text"
      },
      "source": [
        "<a href=\"https://colab.research.google.com/github/kai0024/kaisei/blob/master/udemy_python_basic.ipynb\" target=\"_parent\"><img src=\"https://colab.research.google.com/assets/colab-badge.svg\" alt=\"Open In Colab\"/></a>"
      ]
    },
    {
      "cell_type": "markdown",
      "source": [
        "# python_basic"
      ],
      "metadata": {
        "id": "GrZ_VQgYLEYC"
      }
    },
    {
      "cell_type": "code",
      "source": [
        "a = True; b = False;\n",
        "print(a+b);"
      ],
      "metadata": {
        "colab": {
          "base_uri": "https://localhost:8080/"
        },
        "id": "OIEdLF8tmcdG",
        "outputId": "4ba5a671-e845-4758-c0e9-bdedd209444b"
      },
      "execution_count": 5,
      "outputs": [
        {
          "output_type": "stream",
          "name": "stdout",
          "text": [
            "1\n"
          ]
        }
      ]
    },
    {
      "cell_type": "markdown",
      "source": [
        "Trueは１、Falseは0として扱われる。"
      ],
      "metadata": {
        "id": "6cPCVSZInJV8"
      }
    },
    {
      "cell_type": "markdown",
      "source": [
        "**○リスト**"
      ],
      "metadata": {
        "id": "EnQJZ6A2n23R"
      }
    },
    {
      "cell_type": "markdown",
      "source": [
        "複数の値をまとめて扱う場合に使用する。"
      ],
      "metadata": {
        "id": "LnOxhdj4n6BM"
      }
    },
    {
      "cell_type": "markdown",
      "source": [
        "リストへのアクセスはインデックスを使用する。"
      ],
      "metadata": {
        "id": "3iUNvUhAoMdg"
      }
    },
    {
      "cell_type": "code",
      "source": [
        "a = [1, 2, 3 ,4, 5] #リスト\n",
        "\n",
        "b = a[2]\n",
        "print(b)\n",
        "\n",
        "a.append(6) #末尾に要素を追加する\n",
        "print(a)\n",
        "\n",
        "a[2] = 7\n",
        "print(a)"
      ],
      "metadata": {
        "colab": {
          "base_uri": "https://localhost:8080/"
        },
        "id": "VFHZ1vdXoNKU",
        "outputId": "c826447a-5567-41d8-c314-ef0fb8df33b6"
      },
      "execution_count": 6,
      "outputs": [
        {
          "output_type": "stream",
          "name": "stdout",
          "text": [
            "3\n",
            "[1, 2, 3, 4, 5, 6]\n",
            "[1, 2, 7, 4, 5, 6]\n"
          ]
        }
      ]
    },
    {
      "cell_type": "markdown",
      "source": [
        "**○タプル**"
      ],
      "metadata": {
        "id": "tnf1fzWpojle"
      }
    },
    {
      "cell_type": "markdown",
      "source": [
        "複数の要素をまとめて扱う際に使用するが、リストのように要素の追加・削除・入れ替えはできない。"
      ],
      "metadata": {
        "id": "7WXSTd7joolK"
      }
    },
    {
      "cell_type": "markdown",
      "source": [
        "要素変更をする予定のない場合は、リストよりもタプルを使用する。"
      ],
      "metadata": {
        "id": "vWGTbAu3o8zl"
      }
    },
    {
      "cell_type": "code",
      "source": [
        "a = (1, 2, 3, 4, 5) #タプルの作成\n",
        "\n",
        "b = a[2]\n",
        "print(b)\n",
        "\n",
        "#リストやタプルの要素はまとめて変数化できる\n",
        "a1, a2 ,a3 ,a4, a5= a #全てのインデックスについて設定しないとエラーになる\n",
        "print(a1, a2, a3)\n",
        "\n",
        "b=[6, 7, 8]\n",
        "b1, b2, b3 = b\n",
        "print(b)"
      ],
      "metadata": {
        "colab": {
          "base_uri": "https://localhost:8080/"
        },
        "id": "dg77v-wTpCjp",
        "outputId": "6365141c-9490-4199-a6b9-1f8c14eda11b"
      },
      "execution_count": 8,
      "outputs": [
        {
          "output_type": "stream",
          "name": "stdout",
          "text": [
            "3\n",
            "1 2 3\n",
            "(6, 7, 8)\n"
          ]
        }
      ]
    },
    {
      "cell_type": "markdown",
      "source": [
        "**○辞書**"
      ],
      "metadata": {
        "id": "zRJVzBAcqgcR"
      }
    },
    {
      "cell_type": "markdown",
      "source": [
        "辞書は、キーと値の組み合わせでデータを格納する。"
      ],
      "metadata": {
        "id": "EDdp_yjvqjbK"
      }
    },
    {
      "cell_type": "markdown",
      "source": [
        "文字列をキーとして辞書を作成し、値の取得や入れ替え、要素の追加を行う。"
      ],
      "metadata": {
        "id": "Z6otJbkfqpVY"
      }
    },
    {
      "cell_type": "code",
      "source": [
        "a = {\"Apple\":1, \"Google\":2} #辞書の作成\n",
        "print(a[\"Apple\"]) #\"Apple\"のキーを持つ値を取得\n",
        "\n",
        "a[\"Google\"] = 7 #要素の入れ替え\n",
        "print(a[\"Google\"])\n",
        "\n",
        "a[\"ML\"] = 3 #要素の追加\n",
        "print(a)"
      ],
      "metadata": {
        "colab": {
          "base_uri": "https://localhost:8080/"
        },
        "id": "9RuK-79zqxBu",
        "outputId": "dc950698-de3b-46d4-8d10-12136cc5f66e"
      },
      "execution_count": 9,
      "outputs": [
        {
          "output_type": "stream",
          "name": "stdout",
          "text": [
            "1\n",
            "7\n",
            "{'Apple': 1, 'Google': 7, 'ML': 3}\n"
          ]
        }
      ]
    },
    {
      "cell_type": "markdown",
      "source": [
        "**○セット**"
      ],
      "metadata": {
        "id": "DQUrNtt9rrcI"
      }
    },
    {
      "cell_type": "markdown",
      "source": [
        "リストと似ているが、重複した値の要素を持つことができない。\n",
        "要素の追加や削除は可能。"
      ],
      "metadata": {
        "id": "PRbbwMferu0J"
      }
    },
    {
      "cell_type": "code",
      "source": [
        "a = [1, 1, 2, 3, 4, 5, 5, 6, 7]\n",
        "print(a)\n",
        "\n",
        "b = set(a) #セットに変換\n",
        "print(b)\n",
        "\n",
        "b.add(6)\n",
        "print(b)\n",
        "\n",
        "b.remove(3)\n",
        "print(b)"
      ],
      "metadata": {
        "colab": {
          "base_uri": "https://localhost:8080/"
        },
        "id": "7I0grIAFsBoZ",
        "outputId": "f8d0d684-d862-4332-91b4-3a8d440077f8"
      },
      "execution_count": 10,
      "outputs": [
        {
          "output_type": "stream",
          "name": "stdout",
          "text": [
            "[1, 1, 2, 3, 4, 5, 5, 6, 7]\n",
            "{1, 2, 3, 4, 5, 6, 7}\n",
            "{1, 2, 3, 4, 5, 6, 7}\n",
            "{1, 2, 4, 5, 6, 7}\n"
          ]
        }
      ]
    },
    {
      "cell_type": "markdown",
      "source": [
        "**○if文**"
      ],
      "metadata": {
        "id": "5zxepo9gtKtY"
      }
    },
    {
      "cell_type": "markdown",
      "source": [
        "ブロックの範囲を行頭のインデント(Tab:半角空欄4つ)で表される。"
      ],
      "metadata": {
        "id": "OmE07yF1tPKT"
      }
    },
    {
      "cell_type": "code",
      "source": [
        "a = 7\n",
        "if a < 12:\n",
        "    print(\"Good morning\")\n",
        "elif a< 17:\n",
        "    print(\"Good afternoon\")\n",
        "elif a < 21:\n",
        "    print(\"Good evening\")\n",
        "else:\n",
        "    print(\"Good night\")"
      ],
      "metadata": {
        "colab": {
          "base_uri": "https://localhost:8080/"
        },
        "id": "Q73mEtLntaHx",
        "outputId": "da2b1329-f95d-491c-cc22-311650eb0eb8"
      },
      "execution_count": 12,
      "outputs": [
        {
          "output_type": "stream",
          "name": "stdout",
          "text": [
            "Good morning\n"
          ]
        }
      ]
    },
    {
      "cell_type": "markdown",
      "source": [
        "**○for文**"
      ],
      "metadata": {
        "id": "qpUvaQ6luAjL"
      }
    },
    {
      "cell_type": "markdown",
      "source": [
        "ループ範囲を指定するためには、リストやrangeをin演算子とともに使う"
      ],
      "metadata": {
        "id": "8QNCGXKOuE60"
      }
    },
    {
      "cell_type": "markdown",
      "source": [
        "range([開始番号,]終了番号[,ステップ番号]) []は省略可能"
      ],
      "metadata": {
        "id": "C6jg_shpugJp"
      }
    },
    {
      "cell_type": "code",
      "source": [
        "for a in [4, 7, 10]:\n",
        "    print(a)#リスト内を全て表示\n",
        "\n",
        "for a in range(3):\n",
        "    print(a)#2までを全て表示"
      ],
      "metadata": {
        "colab": {
          "base_uri": "https://localhost:8080/"
        },
        "id": "TfLOd_lbuQYU",
        "outputId": "8b722a75-892d-4f1a-8ee2-10512ed7a8fb"
      },
      "execution_count": 15,
      "outputs": [
        {
          "output_type": "stream",
          "name": "stdout",
          "text": [
            "4\n",
            "7\n",
            "10\n",
            "0\n",
            "1\n",
            "2\n"
          ]
        }
      ]
    },
    {
      "cell_type": "markdown",
      "source": [
        "**○while**"
      ],
      "metadata": {
        "id": "I5O3JntPu85E"
      }
    },
    {
      "cell_type": "code",
      "source": [
        "a = 0\n",
        "while a < 3: #aが３より小さい間ループ\n",
        "    print(a)\n",
        "    a += 1"
      ],
      "metadata": {
        "colab": {
          "base_uri": "https://localhost:8080/"
        },
        "id": "qz6zO5KXu_RU",
        "outputId": "9231b876-b0e1-4687-ff82-49363f99bc55"
      },
      "execution_count": 16,
      "outputs": [
        {
          "output_type": "stream",
          "name": "stdout",
          "text": [
            "0\n",
            "1\n",
            "2\n"
          ]
        }
      ]
    },
    {
      "cell_type": "markdown",
      "source": [
        "**○内包表記**"
      ],
      "metadata": {
        "id": "csHfEe8NvO7p"
      }
    },
    {
      "cell_type": "markdown",
      "source": [
        "リストの要素を操作して上で、新しいリストを作成するための記法。"
      ],
      "metadata": {
        "id": "klAM4pNMvXgP"
      }
    },
    {
      "cell_type": "markdown",
      "source": [
        "新たなリスト = [要素への処理 for 要素 in リスト]"
      ],
      "metadata": {
        "id": "RUVXZYzlvh_n"
      }
    },
    {
      "cell_type": "code",
      "source": [
        "a = [1, 2, 3, 4, 5, 6, 7]\n",
        "b = [c*3+1 for c in a] #内包表記：aの要素を3倍して1を足し新たなリストを作る　aの各要素をcに入れ、それをbに入れる\n",
        "print(b)"
      ],
      "metadata": {
        "colab": {
          "base_uri": "https://localhost:8080/"
        },
        "id": "SkxUGD1KvSrd",
        "outputId": "85b5e692-c40b-4ab8-facb-6a618b7a246a"
      },
      "execution_count": 17,
      "outputs": [
        {
          "output_type": "stream",
          "name": "stdout",
          "text": [
            "[4, 7, 10, 13, 16, 19, 22]\n"
          ]
        }
      ]
    },
    {
      "cell_type": "markdown",
      "source": [
        "**○関数**"
      ],
      "metadata": {
        "id": "_8v4YL5__7ai"
      }
    },
    {
      "cell_type": "markdown",
      "source": [
        "defの後に関数名を記述し、()の中に引数を記述する。"
      ],
      "metadata": {
        "id": "cSQBdVjJAKG_"
      }
    },
    {
      "cell_type": "markdown",
      "source": [
        "returnの後の値が返り値になる。"
      ],
      "metadata": {
        "id": "uYW_RydVAUt-"
      }
    },
    {
      "cell_type": "code",
      "source": [
        "def add(a, b): #関数の定義\n",
        "    c = a + b\n",
        "    return c\n",
        "\n",
        "print(add(3,4))\n",
        "\n",
        "def add(a, b=4): #デフォルト値を設定\n",
        "    c = a + b\n",
        "    return c\n",
        "\n",
        "print(add(3))\n",
        "\n",
        "def add(a, b, c):\n",
        "    d = a + b + c\n",
        "    print(d)\n",
        "\n",
        "e = (1, 2, 3)\n",
        "add(*e) #アスタリスクをつけることで複数の引数を一度に渡すことができる"
      ],
      "metadata": {
        "colab": {
          "base_uri": "https://localhost:8080/"
        },
        "id": "ApRJ7KUmAI4I",
        "outputId": "d3ed4a20-7a4a-4c69-de83-86f58cff2b5d"
      },
      "execution_count": 18,
      "outputs": [
        {
          "output_type": "stream",
          "name": "stdout",
          "text": [
            "7\n",
            "7\n",
            "6\n"
          ]
        }
      ]
    },
    {
      "cell_type": "markdown",
      "source": [
        "**○変数のスコープ**"
      ],
      "metadata": {
        "id": "FNMZH7ZVBbsP"
      }
    },
    {
      "cell_type": "markdown",
      "source": [
        "グローバル変数はどこからでも参照でき、ローカル変数は同じ関数内からのみ参照できる。"
      ],
      "metadata": {
        "id": "-a5EJpehBfHn"
      }
    },
    {
      "cell_type": "code",
      "source": [
        "a = 123\n",
        "\n",
        "def setLocal():\n",
        "    a = 456 #ローカル変数とみなされる\n",
        "    print(\"Local:\", a)\n",
        "\n",
        "\n",
        "setLocal()\n",
        "print(\"Global:\", a) \n",
        "\n",
        "def setGlobal():\n",
        "    global a #globalを使うことでグローバル関数を変更する\n",
        "    a = 456\n",
        "    print(\"change global:\", a)\n",
        "\n",
        "setGlobal()\n",
        "print(\"Global:\", a)"
      ],
      "metadata": {
        "colab": {
          "base_uri": "https://localhost:8080/"
        },
        "id": "CSz7FiQqBtcj",
        "outputId": "80c8eed5-e970-4eef-c66e-5560d512a541"
      },
      "execution_count": 20,
      "outputs": [
        {
          "output_type": "stream",
          "name": "stdout",
          "text": [
            "Local: 456\n",
            "Global: 123\n",
            "change global: 456\n",
            "Global: 456\n"
          ]
        }
      ]
    },
    {
      "cell_type": "markdown",
      "source": [
        "# クラス"
      ],
      "metadata": {
        "id": "OO05o-3IMMw9"
      }
    },
    {
      "cell_type": "markdown",
      "source": [
        "クラスが設計図で、インスタンスは実体。"
      ],
      "metadata": {
        "id": "gkGxllDxCyzs"
      }
    },
    {
      "cell_type": "markdown",
      "source": [
        "クラスから複数のインスタンスを生成できる。クラスとインスタンスを総称してオブジェクトという。"
      ],
      "metadata": {
        "id": "4X2VpXwOC3v4"
      }
    },
    {
      "cell_type": "markdown",
      "source": [
        "クラスを用いると、複数のメゾットをまとめることができる。クラスはclass、メゾットはdefで表す。"
      ],
      "metadata": {
        "id": "JFML1UGvDArZ"
      }
    },
    {
      "cell_type": "code",
      "source": [
        "class Calc: #クラスを定義\n",
        "#__init__は特殊なメゾットで、コンストラクタと呼ばれる　コンストラクタでインスタンスの初期設定を行う\n",
        "    def __init__(self, a): #__initメゾットを定義　selfを用いることでインスタンス変数にアクセスすることができる\n",
        "        #self.a = a で引数として受け取った値をインスタンス変数aに代入する\n",
        "        self.a = a\n",
        "\n",
        "    def add(self, b):\n",
        "        print(self.a + b)\n",
        "\n",
        "    def multiply(self, b):\n",
        "        print(self.a * b)\n",
        "\n",
        "#インスタンスを定義\n",
        "calc = Calc(3)  #これでインスタンス変数calcに3が入る selfに3が入る\n",
        "calc.add(4)\n",
        "calc.multiply(4)\n",
        "\n",
        "class CalcPlus(Calc): #Calcを継承\n",
        "    def subtract(self, b):\n",
        "        print(self.a - b)\n",
        "\n",
        "    def divide(self, b):\n",
        "        print(self.a / b)\n",
        "\n",
        "#インスタンスを定義\n",
        "calc_plus = CalcPlus(3)\n",
        "calc_plus.add(4)\n",
        "calc_plus.multiply(4)\n",
        "calc_plus.subtract(4)\n",
        "calc_plus.divide(4)"
      ],
      "metadata": {
        "colab": {
          "base_uri": "https://localhost:8080/"
        },
        "id": "mN2Q_toUDORM",
        "outputId": "c9420017-f459-4811-eb23-9b6304872b5b"
      },
      "execution_count": 27,
      "outputs": [
        {
          "output_type": "stream",
          "name": "stdout",
          "text": [
            "7\n",
            "12\n",
            "7\n",
            "12\n",
            "-1\n",
            "0.75\n"
          ]
        }
      ]
    },
    {
      "cell_type": "markdown",
      "source": [
        "**○__call__メゾット**"
      ],
      "metadata": {
        "id": "qrfOuE_MHzFW"
      }
    },
    {
      "cell_type": "markdown",
      "source": [
        "callメゾットをクラス内に実装すると、インスタンス名からメゾッドを呼び出すことができる。"
      ],
      "metadata": {
        "id": "MyqzWuqcH3yJ"
      }
    },
    {
      "cell_type": "code",
      "source": [
        "class Hello:\n",
        "      def __init__(self, name):\n",
        "          self.name = name #self.nameをnameと定義する\n",
        "\n",
        "      def __call__(self):\n",
        "          print(\"Hello\" + self.name + \"!\")\n",
        "\n",
        "\n",
        "h = Hello(\"AI\")\n",
        "#インスタンス名hを使って__call__メゾットを呼ぶ\n",
        "h()\n",
        "\n",
        "#上に同じ\n",
        "Hello(\"AI\")()"
      ],
      "metadata": {
        "colab": {
          "base_uri": "https://localhost:8080/"
        },
        "id": "wZThpTG1ICH3",
        "outputId": "23996fcc-0939-4698-d2d1-75a45ce2b241"
      },
      "execution_count": 32,
      "outputs": [
        {
          "output_type": "stream",
          "name": "stdout",
          "text": [
            "HelloAI!\n",
            "HelloAI!\n"
          ]
        }
      ]
    },
    {
      "cell_type": "markdown",
      "source": [
        "**○with構文**"
      ],
      "metadata": {
        "id": "rmMUyZEiJwlW"
      }
    },
    {
      "cell_type": "markdown",
      "source": [
        "with構文を用いて、ファイルの読み込みや保存を簡潔に記述することができる。"
      ],
      "metadata": {
        "id": "QUvhYUgqJ1Vn"
      }
    },
    {
      "cell_type": "markdown",
      "source": [
        "保存されたファイルは、サイドバーで確認することができる。"
      ],
      "metadata": {
        "id": "7Nl0bZImKAun"
      }
    },
    {
      "cell_type": "code",
      "source": [
        "greetings = \"Good morning!\\nGood afternoon!\\nGood evening!\\nGood night!\"\n",
        "\n",
        "with open(\"greetings.txt\", \"w\") as f:\n",
        "    f.write(greetings) #ファイルに保存\n",
        "\n",
        "with open(\"greetings.txt\", \"r\") as f:\n",
        "    print(f.read()) #ファイルに保存"
      ],
      "metadata": {
        "colab": {
          "base_uri": "https://localhost:8080/"
        },
        "id": "uPwd8MjSKE5e",
        "outputId": "81fdd208-a4c9-4a10-f7f7-7c9f2af570dc"
      },
      "execution_count": 34,
      "outputs": [
        {
          "output_type": "stream",
          "name": "stdout",
          "text": [
            "Good morning!\n",
            "Good afternoon!\n",
            "Good evening!\n",
            "Good night!\n"
          ]
        }
      ]
    },
    {
      "cell_type": "markdown",
      "source": [
        "# ローカルとのやりとり"
      ],
      "metadata": {
        "id": "9pl8I3yXL0MR"
      }
    },
    {
      "cell_type": "markdown",
      "source": [
        "端末からファイルをアップしたり、端末にファイルをダウンロードするコードを書くことができる。"
      ],
      "metadata": {
        "id": "SB9tjfvlL5bK"
      }
    },
    {
      "cell_type": "code",
      "source": [
        "from google.colab import files #google colabからfilesをインポートする\n",
        "\n",
        "#ファイルのアップロード\n",
        "uploaded = files.upload()\n",
        "for key in uploaded.keys():\n",
        "  print(uploaded[key].decode('utf-8'))"
      ],
      "metadata": {
        "colab": {
          "resources": {
            "http://localhost:8080/nbextensions/google.colab/files.js": {
              "data": "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",
              "ok": true,
              "headers": [
                [
                  "content-type",
                  "application/javascript"
                ]
              ],
              "status": 200,
              "status_text": ""
            }
          },
          "base_uri": "https://localhost:8080/",
          "height": 148
        },
        "id": "ts-Nh6qYMSBm",
        "outputId": "4e1724f0-c9e8-41c1-d1fd-9c525e9a3e92"
      },
      "execution_count": 37,
      "outputs": [
        {
          "output_type": "display_data",
          "data": {
            "text/html": [
              "\n",
              "     <input type=\"file\" id=\"files-ceb11610-45c4-45bf-b4ff-fb7ae8267407\" name=\"files[]\" multiple disabled\n",
              "        style=\"border:none\" />\n",
              "     <output id=\"result-ceb11610-45c4-45bf-b4ff-fb7ae8267407\">\n",
              "      Upload widget is only available when the cell has been executed in the\n",
              "      current browser session. Please rerun this cell to enable.\n",
              "      </output>\n",
              "      <script src=\"/nbextensions/google.colab/files.js\"></script> "
            ],
            "text/plain": [
              "<IPython.core.display.HTML object>"
            ]
          },
          "metadata": {}
        },
        {
          "output_type": "stream",
          "name": "stdout",
          "text": [
            "Saving greetings.txt to greetings (1).txt\n",
            "Good morning!\n",
            "Good afternoon!\n",
            "Good evening!\n",
            "Good night!\n"
          ]
        }
      ]
    },
    {
      "cell_type": "code",
      "source": [
        "files.download('greetings.txt') #ファイルをダウンロードすることができる"
      ],
      "metadata": {
        "id": "n2v_XEn2O1Z9"
      },
      "execution_count": null,
      "outputs": []
    },
    {
      "cell_type": "markdown",
      "source": [
        "# グーグルドライブとの連携"
      ],
      "metadata": {
        "id": "lPjUs7u2PLZJ"
      }
    },
    {
      "cell_type": "code",
      "source": [
        "from google.colab import drive\n",
        "drive.mount('/content/drive/')"
      ],
      "metadata": {
        "colab": {
          "base_uri": "https://localhost:8080/"
        },
        "id": "P7Qdxw6iPQVS",
        "outputId": "2f11a1be-e320-4a17-955e-8735117307d7"
      },
      "execution_count": 40,
      "outputs": [
        {
          "output_type": "stream",
          "name": "stdout",
          "text": [
            "Drive already mounted at /content/drive/; to attempt to forcibly remount, call drive.mount(\"/content/drive/\", force_remount=True).\n"
          ]
        }
      ]
    },
    {
      "cell_type": "markdown",
      "source": [
        "グーグルドライブにファイルを保存する。"
      ],
      "metadata": {
        "id": "SmGe2maPPpvb"
      }
    },
    {
      "cell_type": "code",
      "source": [
        "import os\n",
        "\n",
        "path = '/content/drive/My Drive/greetings'\n",
        "\n",
        "#ディレクトリを作成\n",
        "if not os.path.exists(path):\n",
        "    os.makedirs(path)\n",
        "\n",
        "#ファイルを保存する\n",
        "with open('/content/drive/My Drive/greetings/hello.txt', 'w') as f:\n",
        "  f.write(\"Hello\")"
      ],
      "metadata": {
        "id": "Yc7hxjl9PwlS"
      },
      "execution_count": 45,
      "outputs": []
    }
  ]
}